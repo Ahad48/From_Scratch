{
 "cells": [
  {
   "cell_type": "code",
   "execution_count": 1,
   "id": "93c0de46",
   "metadata": {},
   "outputs": [
    {
     "data": {
      "text/html": [
       "<style>.container { width:100% !important; }</style>"
      ],
      "text/plain": [
       "<IPython.core.display.HTML object>"
      ]
     },
     "metadata": {},
     "output_type": "display_data"
    }
   ],
   "source": [
    "import pandas as pd\n",
    "import numpy as np\n",
    "from itertools import combinations\n",
    "import seaborn as sns\n",
    "%matplotlib inline\n",
    "from IPython.display import display, HTML\n",
    "display(HTML(\"<style>.container { width:100% !important; }</style>\"))\n",
    "\n",
    "import matplotlib.pyplot as plt"
   ]
  },
  {
   "cell_type": "code",
   "execution_count": 2,
   "id": "15175699",
   "metadata": {},
   "outputs": [
    {
     "name": "stdout",
     "output_type": "stream",
     "text": [
      "4.8\n"
     ]
    }
   ],
   "source": [
    "# For a single neuron the value would be inputs*weights + bias\n",
    "inputs = np.array([1,2,3,2.5])\n",
    "weights = np.array([0.2,0.8,-0.5,1.0])\n",
    "bias = 2\n",
    "\n",
    "output = np.dot(inputs, weights) + bias\n",
    "print(output)"
   ]
  },
  {
   "cell_type": "code",
   "execution_count": 3,
   "id": "f11ad4fc",
   "metadata": {},
   "outputs": [
    {
     "name": "stdout",
     "output_type": "stream",
     "text": [
      "[4.8   1.21  2.385]\n"
     ]
    }
   ],
   "source": [
    "# for multiple neurons\n",
    "\n",
    "inputs = np.array([1,2,3,2.5])\n",
    "weights = np.array([[0.2,0.8,-0.5,1.0],\n",
    "                   [0.5,-0.91,0.26,-0.5],\n",
    "                   [-0.26,-0.27,0.17,0.87]])\n",
    "\n",
    "biases = np.array([2,3,0.5])\n",
    "layer_outputs = np.dot(inputs, weights.T)+biases\n",
    "print(layer_outputs)"
   ]
  },
  {
   "cell_type": "code",
   "execution_count": 4,
   "id": "59eab318",
   "metadata": {},
   "outputs": [
    {
     "name": "stdout",
     "output_type": "stream",
     "text": [
      "[4.8   1.21  2.385]\n"
     ]
    }
   ],
   "source": [
    "# for multiple neurons\n",
    "\n",
    "inputs = np.array([1,2,3,2.5])\n",
    "weights = np.array([[0.2,0.8,-0.5,1.0],\n",
    "                   [0.5,-0.91,0.26,-0.5],\n",
    "                   [-0.26,-0.27,0.17,0.87]])\n",
    "\n",
    "biases = np.array([2,3,0.5])\n",
    "layer_outputs = np.dot(inputs, weights.T)+biases\n",
    "print(layer_outputs)"
   ]
  },
  {
   "cell_type": "code",
   "execution_count": 5,
   "id": "23813358",
   "metadata": {},
   "outputs": [
    {
     "name": "stdout",
     "output_type": "stream",
     "text": [
      "[[ 4.8    1.21   2.385]\n",
      " [ 8.9   -1.81   0.2  ]\n",
      " [ 1.41   1.051  0.026]]\n"
     ]
    }
   ],
   "source": [
    "# for multiple inputs\n",
    "\n",
    "inputs = [[1.0, 2.0, 3.0, 2.5],\n",
    "          [2.0, 5.0, -1.0, 2.0],\n",
    "          [-1.5,2.7,3.3, -0.8]]\n",
    "\n",
    "weights = np.array([[0.2,0.8,-0.5,1.0],  # this weight index is for next neurons input weights, it is then transposed\n",
    "                   [0.5,-0.91,0.26,-0.5],\n",
    "                   [-0.26,-0.27,0.17,0.87]])\n",
    "\n",
    "biases = np.array([2,3,0.5])\n",
    "layer_outputs = np.dot(inputs, weights.T)+biases\n",
    "print(layer_outputs)\n",
    "# Number of columns indicate the number of neurons/outputs present in the next layer"
   ]
  },
  {
   "cell_type": "code",
   "execution_count": 6,
   "id": "9e33e5ea",
   "metadata": {},
   "outputs": [
    {
     "name": "stdout",
     "output_type": "stream",
     "text": [
      "[[ 4.8    1.21   2.385]\n",
      " [ 8.9   -1.81   0.2  ]\n",
      " [ 1.41   1.051  0.026]]\n",
      "(3, 3)\n",
      "\n",
      "[[ 0.5031  -1.04185 -2.03875]\n",
      " [ 0.2434  -2.7332  -5.7633 ]\n",
      " [-0.99314  1.41254 -0.35655]]\n",
      "(3, 3)\n"
     ]
    }
   ],
   "source": [
    "# for multiple inputs\n",
    "\n",
    "inputs = [[1.0, 2.0, 3.0, 2.5],\n",
    "          [2.0, 5.0, -1.0, 2.0],\n",
    "          [-1.5,2.7,3.3, -0.8]]\n",
    "\n",
    "weights1 = np.array([[0.2,0.8,-0.5,1.0], \n",
    "                   [0.5,-0.91,0.26,-0.5],\n",
    "                   [-0.26,-0.27,0.17,0.87]])\n",
    "\n",
    "biases1 = np.array([2,3,0.5])\n",
    "\n",
    "# Supposing the next layer has 3 neurons\n",
    "# the weights2 shape should be rows = number of neurons, columns = number of columns in the previous layers output\n",
    "\n",
    "weights2 = np.array([[0.1,-0.14,0.5],\n",
    "                    [-0.5, 0.12, -0.33],\n",
    "                    [-0.44,0.73,-0.13]])\n",
    "\n",
    "biases2 = np.array([-1,2,-0.5])\n",
    "\n",
    "layer1_outputs = np.dot(inputs, weights.T)+biases\n",
    "print(layer1_outputs)\n",
    "print(layer1_outputs.shape)\n",
    "print()\n",
    "layer2_outputs = np.dot(layer1_outputs, weights2.T)+biases2\n",
    "print(layer2_outputs)\n",
    "print(layer2_outputs.shape)"
   ]
  },
  {
   "cell_type": "code",
   "execution_count": 7,
   "id": "499c3327",
   "metadata": {},
   "outputs": [],
   "source": [
    "from nnfs.datasets import spiral_data"
   ]
  },
  {
   "cell_type": "code",
   "execution_count": 8,
   "id": "9cd88ce0",
   "metadata": {},
   "outputs": [],
   "source": [
    "import nnfs\n",
    "import numpy as np\n",
    "\n",
    "nnfs.init()"
   ]
  },
  {
   "cell_type": "code",
   "execution_count": 9,
   "id": "315b3dac",
   "metadata": {},
   "outputs": [
    {
     "data": {
      "image/png": "[encoded data removed]",
      "text/plain": [
       "<Figure size 432x288 with 1 Axes>"
      ]
     },
     "metadata": {
      "needs_background": "light"
     },
     "output_type": "display_data"
    }
   ],
   "source": [
    "X,y = spiral_data(samples=100, classes = 3)\n",
    "plt.scatter(X[:,0],X[:,1],c=y, cmap='brg')\n",
    "plt.show()"
   ]
  },
  {
   "cell_type": "code",
   "execution_count": 10,
   "id": "fa185ad7",
   "metadata": {},
   "outputs": [],
   "source": [
    "class Layer_Dense:\n",
    "    \n",
    "    def __init__(self, n_inputs, n_neurons):\n",
    "        self.weights = 0.01*np.random.randn(n_neurons, n_inputs)\n",
    "        self.biases = np.zeros((1, n_neurons))\n",
    "        \n",
    "    def forward(self, inputs):\n",
    "        self.output = np.dot(inputs, self.weights.T) + self.biases\n",
    "        \n",
    "class Activation_ReLU:\n",
    "    \n",
    "    def forward(self,inputs):\n",
    "        self.output = np.maximum(0,inputs)"
   ]
  },
  {
   "cell_type": "code",
   "execution_count": 11,
   "id": "28258e3b",
   "metadata": {},
   "outputs": [],
   "source": [
    "dense1 = Layer_Dense(2, 3)\n",
    "activation1 = Activation_ReLU()\n",
    "\n",
    "dense1.forward(X)\n",
    "activation1.forward(dense1.output)"
   ]
  },
  {
   "cell_type": "code",
   "execution_count": 12,
   "id": "18eac3f9",
   "metadata": {},
   "outputs": [
    {
     "data": {
      "text/plain": [
       "array([[-0.01306527, -0.00118164,  0.00666383],\n",
       "       [ 0.01658131, -0.00680178, -0.0046072 ]], dtype=float32)"
      ]
     },
     "execution_count": 12,
     "metadata": {},
     "output_type": "execute_result"
    }
   ],
   "source": [
    "dense1.weights.T"
   ]
  },
  {
   "cell_type": "code",
   "execution_count": 13,
   "id": "0417e1d1",
   "metadata": {},
   "outputs": [
    {
     "name": "stdout",
     "output_type": "stream",
     "text": [
      "[4.79999995 1.21000004 2.38499999]\n"
     ]
    }
   ],
   "source": [
    "# for multiple neurons\n",
    "\n",
    "inputs = np.array([1,2,3,2.5])\n",
    "weights = np.array([[0.2,0.8,-0.5,1.0],\n",
    "                   [0.5,-0.91,0.26,-0.5],\n",
    "                   [-0.26,-0.27,0.17,0.87]])\n",
    "\n",
    "biases = np.array([2,3,0.5])\n",
    "layer_outputs = np.dot(inputs, weights.T)+biases\n",
    "print(layer_outputs)"
   ]
  },
  {
   "cell_type": "code",
   "execution_count": 14,
   "id": "4c0defa0",
   "metadata": {
    "scrolled": true
   },
   "outputs": [
    {
     "name": "stdout",
     "output_type": "stream",
     "text": [
      "[4.79999995 1.21000004 2.38499999]\n",
      "[121.51041172   3.35348478  10.85906256]\n"
     ]
    },
    {
     "data": {
      "text/plain": [
       "array([0.89528266, 0.02470831, 0.08000903])"
      ]
     },
     "execution_count": 14,
     "metadata": {},
     "output_type": "execute_result"
    }
   ],
   "source": [
    "# Softmax takes the exponential of the inputs\n",
    "# But because it can go upto infinity we clip it by subtracting the maximum value of the input row from each row\n",
    "print(layer_outputs)\n",
    "\n",
    "softmax = np.exp(layer_outputs)\n",
    "print(softmax)\n",
    "\n",
    "# To convert the values into probablity we divide it by the sum of the exponent values\n",
    "softmax /= sum(softmax)\n",
    "softmax"
   ]
  },
  {
   "cell_type": "code",
   "execution_count": 15,
   "id": "a86aace8",
   "metadata": {},
   "outputs": [],
   "source": [
    "class Layer_Dense:\n",
    "    \n",
    "    def __init__(self, n_inputs, n_neurons):\n",
    "        self.weights = 0.01*np.random.randn(n_neurons, n_inputs)\n",
    "        self.biases = np.zeros((1, n_neurons))\n",
    "        \n",
    "    def forward(self, inputs):\n",
    "        self.output = np.dot(inputs, self.weights.T) + self.biases\n",
    "        \n",
    "class Activation_ReLU:\n",
    "    \n",
    "    def forward(self,inputs):\n",
    "        self.output = np.maximum(0,inputs)\n",
    "        \n",
    "class Activation_Softmax:\n",
    "    \n",
    "    def forward(self,inputs):\n",
    "        exponent = np.exp(inputs - np.max(inputs, axis = 1, keepdims = True))\n",
    "        self.output = exponent/np.sum(exponent, axis = 1, keepdims = True)"
   ]
  },
  {
   "cell_type": "code",
   "execution_count": 16,
   "id": "8c6b31a4",
   "metadata": {},
   "outputs": [
    {
     "data": {
      "image/png": "[encoded data removed]",
      "text/plain": [
       "<Figure size 432x288 with 1 Axes>"
      ]
     },
     "metadata": {
      "needs_background": "light"
     },
     "output_type": "display_data"
    }
   ],
   "source": [
    "X,y = spiral_data(samples=100, classes = 3)\n",
    "plt.scatter(X[:,0],X[:,1],c=y, cmap='brg')\n",
    "plt.show()"
   ]
  },
  {
   "cell_type": "code",
   "execution_count": 17,
   "id": "fe790510",
   "metadata": {},
   "outputs": [
    {
     "data": {
      "text/plain": [
       "2"
      ]
     },
     "execution_count": 17,
     "metadata": {},
     "output_type": "execute_result"
    }
   ],
   "source": [
    "X.shape[1]"
   ]
  },
  {
   "cell_type": "code",
   "execution_count": 30,
   "id": "c2c2bc71",
   "metadata": {},
   "outputs": [],
   "source": [
    "dense1_num_neruons = 3\n",
    "dense1 = Layer_Dense(X.shape[1], dense1_num_neruons)\n",
    "relu_activation1 = Activation_ReLU()\n",
    "\n",
    "dense2_num_nerurons = 3\n",
    "dense2 = Layer_Dense(dense1_num_neruons, dense2_num_nerurons)\n",
    "softmax_activation1 = Activation_Softmax()"
   ]
  },
  {
   "cell_type": "code",
   "execution_count": 31,
   "id": "fce91199",
   "metadata": {},
   "outputs": [],
   "source": [
    "dense1.forward(X)\n",
    "relu_activation1.forward(dense1.output)\n",
    "\n",
    "dense2.forward(relu_activation1.output)\n",
    "softmax_activation1.forward(dense2.output)"
   ]
  },
  {
   "cell_type": "code",
   "execution_count": 32,
   "id": "8d5f9f2c",
   "metadata": {},
   "outputs": [
    {
     "data": {
      "text/plain": [
       "array([[0.33333334, 0.33333334, 0.33333334],\n",
       "       [0.33333302, 0.33333322, 0.33333376],\n",
       "       [0.33333337, 0.33333325, 0.33333337],\n",
       "       [0.3333334 , 0.33333316, 0.3333334 ],\n",
       "       [0.33333343, 0.33333313, 0.33333343]], dtype=float32)"
      ]
     },
     "execution_count": 32,
     "metadata": {},
     "output_type": "execute_result"
    }
   ],
   "source": [
    "softmax_activation1.output[:5]"
   ]
  },
  {
   "cell_type": "code",
   "execution_count": 33,
   "id": "30984994",
   "metadata": {},
   "outputs": [
    {
     "data": {
      "text/plain": [
       "array([0, 2, 0, 0, 0, 2, 2, 0, 2, 2, 2, 2, 2, 2, 2, 2, 1, 2, 2, 1, 1, 1,\n",
       "       1, 1, 1, 1, 1, 1, 1, 1, 1, 2, 1, 2, 2, 2, 2, 1, 2, 2, 2, 2, 2, 2,\n",
       "       2, 2, 2, 2, 2, 2, 2, 2, 2, 2, 2, 2, 2, 2, 2, 2, 2, 2, 2, 2, 0, 2,\n",
       "       2, 0, 2, 2, 2, 2, 2, 1, 0, 1, 0, 2, 1, 2, 1, 2, 1, 1, 1, 1, 1, 1,\n",
       "       1, 1, 1, 2, 2, 2, 1, 1, 2, 2, 1, 2, 0, 2, 2, 2, 2, 2, 2, 2, 2, 2,\n",
       "       2, 2, 2, 2, 2, 2, 2, 2, 2, 2, 2, 2, 2, 2, 2, 2, 2, 0, 2, 2, 2, 2,\n",
       "       2, 2, 2, 0, 2, 2, 1, 1, 1, 2, 2, 1, 1, 1, 1, 1, 1, 2, 1, 1, 1, 1,\n",
       "       1, 1, 1, 2, 1, 2, 1, 1, 1, 2, 1, 2, 2, 2, 2, 2, 2, 2, 2, 2, 2, 2,\n",
       "       2, 2, 2, 2, 2, 2, 2, 2, 2, 2, 2, 2, 1, 2, 2, 2, 2, 2, 2, 2, 1, 2,\n",
       "       2, 2, 0, 0, 0, 1, 1, 1, 2, 2, 1, 1, 1, 1, 1, 2, 1, 1, 1, 1, 1, 1,\n",
       "       2, 2, 1, 2, 1, 2, 2, 2, 2, 2, 2, 2, 2, 2, 2, 2, 2, 2, 2, 2, 2, 2,\n",
       "       2, 2, 2, 2, 2, 2, 2, 2, 2, 2, 2, 2, 1, 2, 2, 2, 0, 2, 2, 1, 2, 1,\n",
       "       1, 2, 1, 1, 1, 1, 1, 1, 1, 1, 1, 1, 1, 1, 1, 1, 1, 1, 1, 1, 2, 2,\n",
       "       2, 1, 2, 2, 2, 2, 2, 2, 2, 2, 2, 2, 2, 2])"
      ]
     },
     "execution_count": 33,
     "metadata": {},
     "output_type": "execute_result"
    }
   ],
   "source": [
    "np.argmax(softmax_activation1.output, axis = 1)"
   ]
  },
  {
   "cell_type": "code",
   "execution_count": 38,
   "id": "529e8bfe",
   "metadata": {},
   "outputs": [],
   "source": [
    "class Layer_Dense:\n",
    "    \n",
    "    def __init__(self, n_inputs, n_neurons):\n",
    "        self.weights = 0.01*np.random.randn(n_neurons, n_inputs)\n",
    "        self.biases = np.zeros((1, n_neurons))\n",
    "        \n",
    "    def forward(self, inputs):\n",
    "        self.output = np.dot(inputs, self.weights.T) + self.biases\n",
    "        \n",
    "class Activation_ReLU:\n",
    "    \n",
    "    def forward(self,inputs):\n",
    "        self.output = np.maximum(0,inputs)\n",
    "        \n",
    "class Activation_Softmax:\n",
    "    # Softmax is used to convert the output range of -inf to +inf into probabilities\n",
    "    def forward(self,inputs):\n",
    "        # subtracting the maximum value to prevent the overflow\n",
    "        exponent = np.exp(inputs - np.max(inputs, axis = 1, keepdims = True))\n",
    "        self.output = exponent/np.sum(exponent, axis = 1, keepdims = True)\n",
    "\n",
    "class Loss:\n",
    "    def calculate(self, output, y):\n",
    "        sample_losses = self.forward(output, y)\n",
    "        \n",
    "        # mean value of all entire batch is considered\n",
    "        data_loss = np.mean(sample_losses)\n",
    "        \n",
    "        return data_loss\n",
    "\n",
    "    \n",
    "class Loss_CategoricalCrossEntropy(Loss):\n",
    "    \n",
    "    def forward(self, y_pred, y_true):\n",
    "        \n",
    "        samples = y_pred.shape[0]\n",
    "        \n",
    "        # Clipping the values so that the log values does not become -inf\n",
    "        y_pred = np.clip(y_pred, 1e-7, 1 - 1e-7)\n",
    "        \n",
    "        if len(y_true.shape) == 1:\n",
    "            confidences = y_pred[range(samples), y_true]\n",
    "            \n",
    "        elif len(y_true.shape) == 2:\n",
    "            confidences = np.sum(y_pred * y_true, axis = 1)\n",
    "            \n",
    "        # Values have been clipped so that log does not become -inf\n",
    "        negative_log_likelihoods = -np.log(confidences)\n",
    "        return negative_log_likelihoods"
   ]
  },
  {
   "cell_type": "code",
   "execution_count": 39,
   "id": "488ce4e5",
   "metadata": {},
   "outputs": [
    {
     "data": {
      "text/plain": [
       "1"
      ]
     },
     "execution_count": 39,
     "metadata": {},
     "output_type": "execute_result"
    }
   ],
   "source": [
    "len(temp[0].shape)"
   ]
  },
  {
   "cell_type": "code",
   "execution_count": 46,
   "id": "95952e94",
   "metadata": {},
   "outputs": [],
   "source": [
    "softmax_outputs = np.array([[0.7, 0.1, 0.2], [0.1, 0.5, 0.4],\n",
    "[0.02, 0.9, 0.08]]) \n",
    "\n",
    "class_targets = np.array([[1, 0, 0],\n",
    "[0, 1, 0], [0, 1, 0]])\n"
   ]
  },
  {
   "cell_type": "code",
   "execution_count": 41,
   "id": "ec41fdc3",
   "metadata": {},
   "outputs": [
    {
     "data": {
      "text/plain": [
       "array([0.7, 0.5, 0.9])"
      ]
     },
     "execution_count": 41,
     "metadata": {},
     "output_type": "execute_result"
    }
   ],
   "source": [
    "np.sum(softmax_outputs*class_targets, axis = 1)"
   ]
  },
  {
   "cell_type": "code",
   "execution_count": 42,
   "id": "928b3464",
   "metadata": {},
   "outputs": [
    {
     "data": {
      "image/png": "[encoded data removed]",
      "text/plain": [
       "<Figure size 432x288 with 1 Axes>"
      ]
     },
     "metadata": {
      "needs_background": "light"
     },
     "output_type": "display_data"
    }
   ],
   "source": [
    "X,y = spiral_data(samples=100, classes = 3)\n",
    "plt.scatter(X[:,0],X[:,1],c=y, cmap='brg')\n",
    "plt.show()"
   ]
  },
  {
   "cell_type": "code",
   "execution_count": 43,
   "id": "a6ebfa39",
   "metadata": {},
   "outputs": [],
   "source": [
    "dense1_num_neruons = 3\n",
    "dense1 = Layer_Dense(X.shape[1], dense1_num_neruons)\n",
    "relu_activation1 = Activation_ReLU()\n",
    "\n",
    "dense2_num_nerurons = 3\n",
    "dense2 = Layer_Dense(dense1_num_neruons, dense2_num_nerurons)\n",
    "softmax_activation1 = Activation_Softmax()\n",
    "\n",
    "loss_function = Loss_CategoricalCrossEntropy()"
   ]
  },
  {
   "cell_type": "code",
   "execution_count": 44,
   "id": "7c14e93c",
   "metadata": {},
   "outputs": [],
   "source": [
    "dense1.forward(X)\n",
    "relu_activation1.forward(dense1.output)\n",
    "\n",
    "dense2.forward(relu_activation1.output)\n",
    "softmax_activation1.forward(dense2.output)"
   ]
  },
  {
   "cell_type": "code",
   "execution_count": 45,
   "id": "c25ba10a",
   "metadata": {},
   "outputs": [
    {
     "data": {
      "text/plain": [
       "1.0986178"
      ]
     },
     "execution_count": 45,
     "metadata": {},
     "output_type": "execute_result"
    }
   ],
   "source": [
    "loss_function.calculate(softmax_activation1.output, y)"
   ]
  },
  {
   "cell_type": "code",
   "execution_count": 52,
   "id": "d667a170",
   "metadata": {},
   "outputs": [],
   "source": [
    "softmax_outputs = np.array([[0.7, 0.1, 0.2], [0.5, 0.1, 0.4], [0.02, 0.9, 0.08]]) \n",
    "\n",
    "class_targets = np.array([0,1,1])\n"
   ]
  },
  {
   "cell_type": "code",
   "execution_count": 53,
   "id": "ceb16407",
   "metadata": {},
   "outputs": [],
   "source": [
    "def Accuracy(y_pred, y_true):\n",
    "    \n",
    "    if len(y_pred.shape) == 2:\n",
    "        y_pred = np.argmax(y_pred, axis = 1)\n",
    "    \n",
    "    if len(y_true.shape) == 2:\n",
    "        y_true = np.argmax(y_true, axis = 1)\n",
    "        \n",
    "    accuracy = np.mean(y_pred == y_true)\n",
    "    print(\"Accuracy: \", accuracy)\n",
    "    \n",
    "    return accuracy"
   ]
  },
  {
   "cell_type": "code",
   "execution_count": 54,
   "id": "6486ec49",
   "metadata": {},
   "outputs": [
    {
     "name": "stdout",
     "output_type": "stream",
     "text": [
      "Accuracy:  0.6666666666666666\n"
     ]
    },
    {
     "data": {
      "text/plain": [
       "0.6666666666666666"
      ]
     },
     "execution_count": 54,
     "metadata": {},
     "output_type": "execute_result"
    }
   ],
   "source": [
    "Accuracy(softmax_outputs, class_targets)"
   ]
  },
  {
   "cell_type": "code",
   "execution_count": null,
   "id": "067198b7",
   "metadata": {},
   "outputs": [],
   "source": []
  }
 ],
 "metadata": {
  "kernelspec": {
   "display_name": "Python 3.9 (tensorflow)",
   "language": "python",
   "name": "tensorflow"
  },
  "language_info": {
   "codemirror_mode": {
    "name": "ipython",
    "version": 3
   },
   "file_extension": ".py",
   "mimetype": "text/x-python",
   "name": "python",
   "nbconvert_exporter": "python",
   "pygments_lexer": "ipython3",
   "version": "3.9.12"
  }
 },
 "nbformat": 4,
 "nbformat_minor": 5
}

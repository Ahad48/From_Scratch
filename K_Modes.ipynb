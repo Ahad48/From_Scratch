{
 "cells": [
  {
   "cell_type": "code",
   "execution_count": 1,
   "id": "cfe5b32b",
   "metadata": {},
   "outputs": [
    {
     "data": {
      "text/html": [
       "<style>.container { width:100% !important; }</style>"
      ],
      "text/plain": [
       "<IPython.core.display.HTML object>"
      ]
     },
     "metadata": {},
     "output_type": "display_data"
    }
   ],
   "source": [
    "import pandas as pd\n",
    "import numpy as np\n",
    "\n",
    "from IPython.display import display, HTML\n",
    "display(HTML(\"<style>.container { width:100% !important; }</style>\"))"
   ]
  },
  {
   "cell_type": "code",
   "execution_count": 2,
   "id": "1fc288c2",
   "metadata": {},
   "outputs": [],
   "source": [
    "df = pd.read_csv('Datasets/mushrooms.csv')"
   ]
  },
  {
   "cell_type": "code",
   "execution_count": 5,
   "id": "c0d1d64b",
   "metadata": {},
   "outputs": [
    {
     "name": "stdout",
     "output_type": "stream",
     "text": [
      "(8124, 23)\n"
     ]
    },
    {
     "data": {
      "text/plain": [
       "class                       0\n",
       "cap-shape                   0\n",
       "cap-surface                 0\n",
       "cap-color                   0\n",
       "bruises                     0\n",
       "odor                        0\n",
       "gill-attachment             0\n",
       "gill-spacing                0\n",
       "gill-size                   0\n",
       "gill-color                  0\n",
       "stalk-shape                 0\n",
       "stalk-root                  0\n",
       "stalk-surface-above-ring    0\n",
       "stalk-surface-below-ring    0\n",
       "stalk-color-above-ring      0\n",
       "stalk-color-below-ring      0\n",
       "veil-type                   0\n",
       "veil-color                  0\n",
       "ring-number                 0\n",
       "ring-type                   0\n",
       "spore-print-color           0\n",
       "population                  0\n",
       "habitat                     0\n",
       "dtype: int64"
      ]
     },
     "execution_count": 5,
     "metadata": {},
     "output_type": "execute_result"
    }
   ],
   "source": [
    "print(df.shape)\n",
    "df.isna().sum()"
   ]
  },
  {
   "cell_type": "code",
   "execution_count": 15,
   "id": "1e664612",
   "metadata": {},
   "outputs": [],
   "source": [
    "cols = ['cap-shape', 'cap-surface', 'cap-color', 'bruises', 'odor',\n",
    "       'gill-attachment', 'gill-spacing', 'gill-size', 'gill-color',\n",
    "       'stalk-shape', 'stalk-root', 'stalk-surface-above-ring',\n",
    "       'stalk-surface-below-ring', 'stalk-color-above-ring',\n",
    "       'stalk-color-below-ring', 'veil-type', 'veil-color', 'ring-number',\n",
    "       'ring-type', 'spore-print-color', 'population', 'habitat']\n",
    "X = df[cols].values"
   ]
  },
  {
   "cell_type": "code",
   "execution_count": 20,
   "id": "8f4d7efe",
   "metadata": {},
   "outputs": [],
   "source": [
    "# dissimilarity matrix is where the value in each coulmn of X1 is not equal to value in X2\n",
    "def dissimilarity(point1, point2):\n",
    "    return (point1!=point2).sum(axis = 1)"
   ]
  },
  {
   "cell_type": "code",
   "execution_count": 23,
   "id": "8a5bbbad",
   "metadata": {},
   "outputs": [
    {
     "data": {
      "text/plain": [
       "array([['f', 'y', 'n', 'f', 'y', 'f', 'c', 'n', 'b', 't', '?', 'k', 'k',\n",
       "        'p', 'w', 'p', 'w', 'o', 'e', 'w', 'v', 'l'],\n",
       "       ['x', 'f', 'y', 'f', 'f', 'f', 'c', 'b', 'g', 'e', 'b', 'k', 'k',\n",
       "        'p', 'n', 'p', 'w', 'o', 'l', 'h', 'y', 'g'],\n",
       "       ['x', 'y', 'n', 'f', 'n', 'f', 'w', 'n', 'w', 'e', 'b', 's', 'f',\n",
       "        'w', 'n', 'p', 'w', 'o', 'e', 'w', 'v', 'l'],\n",
       "       ['f', 's', 'n', 'f', 's', 'f', 'c', 'n', 'b', 't', '?', 's', 's',\n",
       "        'w', 'w', 'p', 'w', 'o', 'e', 'w', 'v', 'l']], dtype=object)"
      ]
     },
     "execution_count": 23,
     "metadata": {},
     "output_type": "execute_result"
    }
   ],
   "source": [
    "num_of_centers = 4\n",
    "centers = X[np.random.choice(X.shape[0], num_of_centers)]\n",
    "centers"
   ]
  },
  {
   "cell_type": "code",
   "execution_count": 40,
   "id": "fe06a74e",
   "metadata": {},
   "outputs": [],
   "source": [
    "distance_matrix = np.zeros((X.shape[0],num_of_centers))"
   ]
  },
  {
   "cell_type": "code",
   "execution_count": 55,
   "id": "07c442aa",
   "metadata": {},
   "outputs": [],
   "source": [
    "for i,center in enumerate(centers):\n",
    "    center_temp = np.repeat([center],X.shape[0], axis =0)\n",
    "    distance_matrix[:,i] = dissimilarity(X,center_temp)"
   ]
  },
  {
   "cell_type": "code",
   "execution_count": 56,
   "id": "1dc7c30b",
   "metadata": {},
   "outputs": [
    {
     "data": {
      "text/plain": [
       "array([[14., 15., 12., 10.],\n",
       "       [16., 12., 14., 12.],\n",
       "       [16., 15., 15., 12.],\n",
       "       ...,\n",
       "       [14., 16., 14., 11.],\n",
       "       [ 3., 15.,  8.,  4.],\n",
       "       [15., 15., 13., 12.]])"
      ]
     },
     "execution_count": 56,
     "metadata": {},
     "output_type": "execute_result"
    }
   ],
   "source": [
    "distance_matrix"
   ]
  },
  {
   "cell_type": "code",
   "execution_count": 57,
   "id": "ad6557a1",
   "metadata": {},
   "outputs": [],
   "source": [
    "clusters = np.argmin(distance_matrix, axis=1)"
   ]
  },
  {
   "cell_type": "code",
   "execution_count": 58,
   "id": "87154b98",
   "metadata": {},
   "outputs": [
    {
     "data": {
      "text/plain": [
       "array([3, 1, 3, ..., 3, 0, 3])"
      ]
     },
     "execution_count": 58,
     "metadata": {},
     "output_type": "execute_result"
    }
   ],
   "source": [
    "clusters"
   ]
  },
  {
   "cell_type": "code",
   "execution_count": 59,
   "id": "46596464",
   "metadata": {},
   "outputs": [],
   "source": [
    "old_clusters = clusters"
   ]
  },
  {
   "cell_type": "code",
   "execution_count": 79,
   "id": "e6103831",
   "metadata": {},
   "outputs": [
    {
     "data": {
      "text/plain": [
       "(array([1803, 1805, 1838, ..., 8117, 8118, 8122]),)"
      ]
     },
     "execution_count": 79,
     "metadata": {},
     "output_type": "execute_result"
    }
   ],
   "source": [
    "np.where(clusters == 0)"
   ]
  },
  {
   "cell_type": "markdown",
   "id": "1ffce482",
   "metadata": {},
   "source": [
    "##### For K-Modes Clustering we need to use the mode of the values"
   ]
  },
  {
   "cell_type": "code",
   "execution_count": 124,
   "id": "76a73799",
   "metadata": {},
   "outputs": [],
   "source": [
    "# checking the mode using scipy\n",
    "from scipy import stats"
   ]
  },
  {
   "cell_type": "code",
   "execution_count": 86,
   "id": "decf44c7",
   "metadata": {},
   "outputs": [
    {
     "data": {
      "text/plain": [
       "array([['f', 'y', 'n', 'f', 'f', 'f', 'c', 'n', 'b', 't', '?', 'k', 'k',\n",
       "        'p', 'w', 'p', 'w', 'o', 'e', 'w', 'v', 'd']], dtype=object)"
      ]
     },
     "execution_count": 86,
     "metadata": {},
     "output_type": "execute_result"
    }
   ],
   "source": [
    "stats.mode(X[np.where(clusters == 0)])[0]"
   ]
  },
  {
   "cell_type": "code",
   "execution_count": 125,
   "id": "fceb22e6",
   "metadata": {},
   "outputs": [
    {
     "data": {
      "text/plain": [
       "(array([1, 2, 3, 4, 5, 6, 7, 8, 9]),\n",
       " array([ 0,  1,  2,  3,  4,  5, 11, 10,  9]),\n",
       " array([2, 2, 2, 1, 2, 2, 1, 1, 1]))"
      ]
     },
     "execution_count": 125,
     "metadata": {},
     "output_type": "execute_result"
    }
   ],
   "source": [
    "# Checking how numpy.unique works\n",
    "np.unique([1,2,3,4,5,6,1,2,3,9,8,7,6,5], return_index = True, return_counts=True)"
   ]
  },
  {
   "cell_type": "code",
   "execution_count": 127,
   "id": "829c81b1",
   "metadata": {},
   "outputs": [
    {
     "data": {
      "text/plain": [
       "array(['f', 'f', 'w', 'f', 'n', 'f', 'w', 'b', 'k', 't', 'e', 's', 's',\n",
       "       'w', 'w', 'p', 'w', 'o', 'e', 'n', 'a', 'g'], dtype=object)"
      ]
     },
     "execution_count": 127,
     "metadata": {},
     "output_type": "execute_result"
    }
   ],
   "source": [
    "# it returns the unique values, the index of the first occurance of the value and the number of instances of each value\n",
    "\n",
    "# Code from https://stackoverflow.com/questions/16330831/most-efficient-way-to-find-mode-in-numpy-array\n",
    "(_, idx, counts) = np.unique(X[np.where(clusters == 0)], return_index=True, return_counts=True)\n",
    "index = idx[np.argmax(counts)]\n",
    "mode = X[np.where(clusters == 0)][index]\n",
    "mode"
   ]
  },
  {
   "cell_type": "code",
   "execution_count": 128,
   "id": "f9e3703a",
   "metadata": {},
   "outputs": [],
   "source": [
    "def np_mode(A):\n",
    "    (_, idx, counts) = np.unique(A, return_index=True, return_counts=True)\n",
    "    index = idx[np.argmax(counts)]\n",
    "    mode = A[index]\n",
    "    return mode"
   ]
  },
  {
   "cell_type": "code",
   "execution_count": 129,
   "id": "b113ca39",
   "metadata": {},
   "outputs": [
    {
     "data": {
      "text/plain": [
       "array(['f', 'f', 'w', 'f', 'n', 'f', 'w', 'b', 'k', 't', 'e', 's', 's',\n",
       "       'w', 'w', 'p', 'w', 'o', 'e', 'n', 'a', 'g'], dtype=object)"
      ]
     },
     "execution_count": 129,
     "metadata": {},
     "output_type": "execute_result"
    }
   ],
   "source": [
    "# checking if the function returns the same value as expected\n",
    "np_mode(X[np.where(clusters == 0)])"
   ]
  },
  {
   "cell_type": "code",
   "execution_count": 130,
   "id": "d9c6c4c5",
   "metadata": {},
   "outputs": [],
   "source": [
    "def create_distance_matrix(X, centers):\n",
    "    distance_matrix = np.zeros((X.shape[0],centers.shape[0]))\n",
    "    \n",
    "    for i,center in enumerate(centers):\n",
    "        center_temp = np.repeat([center],X.shape[0], axis =0)\n",
    "        distance_matrix[:,i] = dissimilarity(X,center_temp)\n",
    "    \n",
    "    return distance_matrix"
   ]
  },
  {
   "cell_type": "code",
   "execution_count": 131,
   "id": "8e4eece1",
   "metadata": {},
   "outputs": [],
   "source": [
    "def Kmodes(X, num_of_centers, epochs = 1500):\n",
    "    \n",
    "    epoch = 1\n",
    "    old_clusters = None\n",
    "    clusters = np.zeros(X.shape[0])\n",
    "    \n",
    "    # Selecting centers randomly\n",
    "    centers = X[np.random.choice(X.shape[0], num_of_centers)]\n",
    "    \n",
    "    while((epoch<=epochs)):\n",
    "        # Creating a distance matrix wrt all centers and data points\n",
    "        distance_matrix = create_distance_matrix(X, centers)\n",
    "        \n",
    "        # Assigning cluster to the center where the distance is minimum\n",
    "        clusters = np.argmin(distance_matrix, axis=1)\n",
    "        \n",
    "        # Updating old cluster\n",
    "        for i in range(num_of_centers):\n",
    "            centers[i] = np_mode(X[np.where(clusters == i)])\n",
    "            \n",
    "        # if the old clusters and new clusters are same then stop\n",
    "        if np.array_equal(old_clusters,clusters):\n",
    "            break\n",
    "        old_clusters = clusters\n",
    "        \n",
    "#         print(epoch)\n",
    "        epoch += 1\n",
    "            \n",
    "    return centers, clusters\n"
   ]
  },
  {
   "cell_type": "code",
   "execution_count": 132,
   "id": "5480b92e",
   "metadata": {},
   "outputs": [],
   "source": [
    "centers, clusters = Kmodes(X,2)"
   ]
  },
  {
   "cell_type": "code",
   "execution_count": 133,
   "id": "f3a55703",
   "metadata": {},
   "outputs": [
    {
     "data": {
      "text/plain": [
       "array([1, 1, 1, ..., 1, 0, 1])"
      ]
     },
     "execution_count": 133,
     "metadata": {},
     "output_type": "execute_result"
    }
   ],
   "source": [
    "clusters"
   ]
  },
  {
   "cell_type": "code",
   "execution_count": null,
   "id": "83635e6f",
   "metadata": {},
   "outputs": [],
   "source": []
  }
 ],
 "metadata": {
  "kernelspec": {
   "display_name": "Python [conda env:tensorflow] *",
   "language": "python",
   "name": "conda-env-tensorflow-py"
  },
  "language_info": {
   "codemirror_mode": {
    "name": "ipython",
    "version": 3
   },
   "file_extension": ".py",
   "mimetype": "text/x-python",
   "name": "python",
   "nbconvert_exporter": "python",
   "pygments_lexer": "ipython3",
   "version": "3.9.12"
  }
 },
 "nbformat": 4,
 "nbformat_minor": 5
}

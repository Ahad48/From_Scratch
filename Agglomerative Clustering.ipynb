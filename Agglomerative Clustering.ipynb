{
 "cells": [
  {
   "cell_type": "code",
   "execution_count": 66,
   "id": "44eb0658",
   "metadata": {},
   "outputs": [
    {
     "data": {
      "text/html": [
       "<style>.container { width:100% !important; }</style>"
      ],
      "text/plain": [
       "<IPython.core.display.HTML object>"
      ]
     },
     "metadata": {},
     "output_type": "display_data"
    }
   ],
   "source": [
    "import pandas as pd\n",
    "import numpy as np\n",
    "from itertools import combinations\n",
    "import seaborn as sns\n",
    "%matplotlib inline\n",
    "from IPython.display import display, HTML\n",
    "display(HTML(\"<style>.container { width:100% !important; }</style>\"))\n",
    "\n",
    "import matplotlib.pyplot as plt"
   ]
  },
  {
   "cell_type": "code",
   "execution_count": 33,
   "id": "0e236a6e",
   "metadata": {},
   "outputs": [],
   "source": [
    "import matplotlib.pyplot as plt\n",
    "from sklearn.preprocessing import StandardScaler\n",
    "from sklearn.datasets import make_blobs"
   ]
  },
  {
   "cell_type": "code",
   "execution_count": 34,
   "id": "37cab154",
   "metadata": {},
   "outputs": [
    {
     "data": {
      "text/plain": [
       "<matplotlib.collections.PathCollection at 0x143f8b430>"
      ]
     },
     "execution_count": 34,
     "metadata": {},
     "output_type": "execute_result"
    },
    {
     "data": {
      "image/png": "[encoded data removed]",
      "text/plain": [
       "<Figure size 432x288 with 1 Axes>"
      ]
     },
     "metadata": {
      "needs_background": "light"
     },
     "output_type": "display_data"
    }
   ],
   "source": [
    "X, true_labels = make_blobs(10,2, centers=3, random_state=9)\n",
    "plt.scatter(X[:,0],X[:,1])"
   ]
  },
  {
   "cell_type": "markdown",
   "id": "aef2fdb7",
   "metadata": {},
   "source": [
    "Starting with low number of data points"
   ]
  },
  {
   "cell_type": "markdown",
   "id": "f9e808de",
   "metadata": {},
   "source": [
    "trying a dictionary approcah where keys are the cluster ids and the values are the centers of the clusters"
   ]
  },
  {
   "cell_type": "code",
   "execution_count": 127,
   "id": "625c7df2",
   "metadata": {},
   "outputs": [],
   "source": [
    "cluster_dict = {str(i):x for i,x in enumerate(X)}"
   ]
  },
  {
   "cell_type": "code",
   "execution_count": 128,
   "id": "a68659b2",
   "metadata": {},
   "outputs": [
    {
     "data": {
      "text/plain": [
       "{'0': array([-10.0331975 ,  -0.61045562]),\n",
       " '1': array([-0.22165915, -6.02583041]),\n",
       " '2': array([-9.15662584,  1.77760915]),\n",
       " '3': array([-9.4958347,  0.7449955]),\n",
       " '4': array([-6.6414108 , -5.98406595]),\n",
       " '5': array([-6.48250712, -5.59686837]),\n",
       " '6': array([ 1.45819549, -8.22413059]),\n",
       " '7': array([ 1.73828163, -6.89264039]),\n",
       " '8': array([-11.3098481 ,  -0.45338014]),\n",
       " '9': array([-6.23963239, -5.24831702])}"
      ]
     },
     "execution_count": 128,
     "metadata": {},
     "output_type": "execute_result"
    }
   ],
   "source": [
    "cluster_dict"
   ]
  },
  {
   "cell_type": "markdown",
   "id": "352aff6e",
   "metadata": {},
   "source": [
    "## for now we will try only three methods\n",
    "\n",
    "### #1 - Single linkage where the minimum distance is considered with a cluster\n",
    "### #2 - Complete linkage where the maximum distance is conidered \n",
    "### #3 - Average linkage where the average distance is considered"
   ]
  },
  {
   "cell_type": "code",
   "execution_count": 129,
   "id": "2e147b90",
   "metadata": {},
   "outputs": [],
   "source": [
    "def euclidean_dis(point1, point2):\n",
    "    return (((point1-point2)**2).sum())**0.5"
   ]
  },
  {
   "cell_type": "code",
   "execution_count": 130,
   "id": "59f0c7d3",
   "metadata": {},
   "outputs": [],
   "source": [
    "def get_dist_matrix(X):\n",
    "    dist_matrix = np.full((X.shape[0],X.shape[0]),np.nan)\n",
    "    for (i,i_val),(j,j_val) in combinations(cluster_dict.items(),2):\n",
    "        i,j = int(i), int(j)\n",
    "        if i==j:\n",
    "            dist_matrix[i,j] = np.nan\n",
    "        else:\n",
    "            dist_matrix[i,j] = euclidean_dis(i_val,j_val)\n",
    "    return dist_matrix\n",
    "\n",
    "    \n",
    "def get_min_index(dist_matrix):\n",
    "    return np.unravel_index(np.nanargmin(dist_matrix), dist_matrix.shape)"
   ]
  },
  {
   "cell_type": "code",
   "execution_count": 221,
   "id": "b82e14db",
   "metadata": {},
   "outputs": [],
   "source": [
    "def update_cluster(cluster_dict, dist_matrix = None):\n",
    "    if type(dist_matrix) == type(np.zeros((1,1))):\n",
    "        \n",
    "        index_to_cluster = dict()\n",
    "        for i in cluster_dict.keys():\n",
    "#             print(i)\n",
    "            cluster_dict[i] = dist_matrix[int(i)]\n",
    "            index_to_cluster[int(i)] = i\n",
    "    \n",
    "        return cluster_dict, index_to_cluster\n",
    "    \n",
    "    else:\n",
    "        dist_matrix = np.stack([*cluster_dict.values()])\n",
    "        i,j = get_min_index(dist_matrix)\n",
    "        \n",
    "        cluster_dict"
   ]
  },
  {
   "cell_type": "code",
   "execution_count": 222,
   "id": "b5d1fcf2",
   "metadata": {},
   "outputs": [],
   "source": [
    "cluster_dict, index_to_cluster = update_cluster(cluster_dict,dist_matrix)"
   ]
  },
  {
   "cell_type": "code",
   "execution_count": 225,
   "id": "e76a9a03",
   "metadata": {},
   "outputs": [
    {
     "data": {
      "text/plain": [
       "{0: '0',\n",
       " 1: '1',\n",
       " 2: '2',\n",
       " 3: '3',\n",
       " 4: '4',\n",
       " 5: '5',\n",
       " 6: '6',\n",
       " 7: '7',\n",
       " 8: '8',\n",
       " 9: '9'}"
      ]
     },
     "execution_count": 225,
     "metadata": {},
     "output_type": "execute_result"
    }
   ],
   "source": [
    "index_to_cluster"
   ]
  },
  {
   "cell_type": "code",
   "execution_count": 224,
   "id": "eccabc06",
   "metadata": {},
   "outputs": [
    {
     "data": {
      "text/html": [
       "<div>\n",
       "<style scoped>\n",
       "    .dataframe tbody tr th:only-of-type {\n",
       "        vertical-align: middle;\n",
       "    }\n",
       "\n",
       "    .dataframe tbody tr th {\n",
       "        vertical-align: top;\n",
       "    }\n",
       "\n",
       "    .dataframe thead th {\n",
       "        text-align: right;\n",
       "    }\n",
       "</style>\n",
       "<table border=\"1\" class=\"dataframe\">\n",
       "  <thead>\n",
       "    <tr style=\"text-align: right;\">\n",
       "      <th></th>\n",
       "      <th>0</th>\n",
       "      <th>1</th>\n",
       "      <th>2</th>\n",
       "      <th>3</th>\n",
       "      <th>4</th>\n",
       "      <th>5</th>\n",
       "      <th>6</th>\n",
       "      <th>7</th>\n",
       "      <th>8</th>\n",
       "      <th>9</th>\n",
       "    </tr>\n",
       "  </thead>\n",
       "  <tbody>\n",
       "    <tr>\n",
       "      <th>0</th>\n",
       "      <td>NaN</td>\n",
       "      <td>11.206809</td>\n",
       "      <td>2.543861</td>\n",
       "      <td>1.458083</td>\n",
       "      <td>6.354518</td>\n",
       "      <td>6.121414</td>\n",
       "      <td>13.784780</td>\n",
       "      <td>13.342922</td>\n",
       "      <td>1.286277</td>\n",
       "      <td>5.991736</td>\n",
       "    </tr>\n",
       "    <tr>\n",
       "      <th>1</th>\n",
       "      <td>NaN</td>\n",
       "      <td>NaN</td>\n",
       "      <td>11.862854</td>\n",
       "      <td>11.482788</td>\n",
       "      <td>6.419888</td>\n",
       "      <td>6.275526</td>\n",
       "      <td>2.766665</td>\n",
       "      <td>2.143065</td>\n",
       "      <td>12.409679</td>\n",
       "      <td>6.067992</td>\n",
       "    </tr>\n",
       "    <tr>\n",
       "      <th>2</th>\n",
       "      <td>NaN</td>\n",
       "      <td>NaN</td>\n",
       "      <td>NaN</td>\n",
       "      <td>1.086901</td>\n",
       "      <td>8.159038</td>\n",
       "      <td>7.844350</td>\n",
       "      <td>14.584554</td>\n",
       "      <td>13.923801</td>\n",
       "      <td>3.100593</td>\n",
       "      <td>7.607397</td>\n",
       "    </tr>\n",
       "    <tr>\n",
       "      <th>3</th>\n",
       "      <td>NaN</td>\n",
       "      <td>NaN</td>\n",
       "      <td>NaN</td>\n",
       "      <td>NaN</td>\n",
       "      <td>7.309446</td>\n",
       "      <td>7.021352</td>\n",
       "      <td>14.157542</td>\n",
       "      <td>13.584508</td>\n",
       "      <td>2.174109</td>\n",
       "      <td>6.820751</td>\n",
       "    </tr>\n",
       "    <tr>\n",
       "      <th>4</th>\n",
       "      <td>NaN</td>\n",
       "      <td>NaN</td>\n",
       "      <td>NaN</td>\n",
       "      <td>NaN</td>\n",
       "      <td>NaN</td>\n",
       "      <td>0.418536</td>\n",
       "      <td>8.403661</td>\n",
       "      <td>8.428805</td>\n",
       "      <td>7.237596</td>\n",
       "      <td>0.838303</td>\n",
       "    </tr>\n",
       "    <tr>\n",
       "      <th>5</th>\n",
       "      <td>NaN</td>\n",
       "      <td>NaN</td>\n",
       "      <td>NaN</td>\n",
       "      <td>NaN</td>\n",
       "      <td>NaN</td>\n",
       "      <td>NaN</td>\n",
       "      <td>8.364046</td>\n",
       "      <td>8.322283</td>\n",
       "      <td>7.053984</td>\n",
       "      <td>0.424825</td>\n",
       "    </tr>\n",
       "    <tr>\n",
       "      <th>6</th>\n",
       "      <td>NaN</td>\n",
       "      <td>NaN</td>\n",
       "      <td>NaN</td>\n",
       "      <td>NaN</td>\n",
       "      <td>NaN</td>\n",
       "      <td>NaN</td>\n",
       "      <td>NaN</td>\n",
       "      <td>1.360630</td>\n",
       "      <td>14.946822</td>\n",
       "      <td>8.253001</td>\n",
       "    </tr>\n",
       "    <tr>\n",
       "      <th>7</th>\n",
       "      <td>NaN</td>\n",
       "      <td>NaN</td>\n",
       "      <td>NaN</td>\n",
       "      <td>NaN</td>\n",
       "      <td>NaN</td>\n",
       "      <td>NaN</td>\n",
       "      <td>NaN</td>\n",
       "      <td>NaN</td>\n",
       "      <td>14.550524</td>\n",
       "      <td>8.145607</td>\n",
       "    </tr>\n",
       "    <tr>\n",
       "      <th>8</th>\n",
       "      <td>NaN</td>\n",
       "      <td>NaN</td>\n",
       "      <td>NaN</td>\n",
       "      <td>NaN</td>\n",
       "      <td>NaN</td>\n",
       "      <td>NaN</td>\n",
       "      <td>NaN</td>\n",
       "      <td>NaN</td>\n",
       "      <td>NaN</td>\n",
       "      <td>6.978432</td>\n",
       "    </tr>\n",
       "    <tr>\n",
       "      <th>9</th>\n",
       "      <td>NaN</td>\n",
       "      <td>NaN</td>\n",
       "      <td>NaN</td>\n",
       "      <td>NaN</td>\n",
       "      <td>NaN</td>\n",
       "      <td>NaN</td>\n",
       "      <td>NaN</td>\n",
       "      <td>NaN</td>\n",
       "      <td>NaN</td>\n",
       "      <td>NaN</td>\n",
       "    </tr>\n",
       "  </tbody>\n",
       "</table>\n",
       "</div>"
      ],
      "text/plain": [
       "    0          1          2          3         4         5          6  \\\n",
       "0 NaN  11.206809   2.543861   1.458083  6.354518  6.121414  13.784780   \n",
       "1 NaN        NaN  11.862854  11.482788  6.419888  6.275526   2.766665   \n",
       "2 NaN        NaN        NaN   1.086901  8.159038  7.844350  14.584554   \n",
       "3 NaN        NaN        NaN        NaN  7.309446  7.021352  14.157542   \n",
       "4 NaN        NaN        NaN        NaN       NaN  0.418536   8.403661   \n",
       "5 NaN        NaN        NaN        NaN       NaN       NaN   8.364046   \n",
       "6 NaN        NaN        NaN        NaN       NaN       NaN        NaN   \n",
       "7 NaN        NaN        NaN        NaN       NaN       NaN        NaN   \n",
       "8 NaN        NaN        NaN        NaN       NaN       NaN        NaN   \n",
       "9 NaN        NaN        NaN        NaN       NaN       NaN        NaN   \n",
       "\n",
       "           7          8         9  \n",
       "0  13.342922   1.286277  5.991736  \n",
       "1   2.143065  12.409679  6.067992  \n",
       "2  13.923801   3.100593  7.607397  \n",
       "3  13.584508   2.174109  6.820751  \n",
       "4   8.428805   7.237596  0.838303  \n",
       "5   8.322283   7.053984  0.424825  \n",
       "6   1.360630  14.946822  8.253001  \n",
       "7        NaN  14.550524  8.145607  \n",
       "8        NaN        NaN  6.978432  \n",
       "9        NaN        NaN       NaN  "
      ]
     },
     "execution_count": 224,
     "metadata": {},
     "output_type": "execute_result"
    }
   ],
   "source": [
    "pd.DataFrame(np.stack([*cluster_dict.values()]))"
   ]
  },
  {
   "cell_type": "code",
   "execution_count": null,
   "id": "1bf35c3b",
   "metadata": {},
   "outputs": [],
   "source": []
  },
  {
   "cell_type": "code",
   "execution_count": null,
   "id": "716c2b1b",
   "metadata": {},
   "outputs": [],
   "source": []
  },
  {
   "cell_type": "code",
   "execution_count": null,
   "id": "520bbafc",
   "metadata": {},
   "outputs": [],
   "source": []
  },
  {
   "cell_type": "code",
   "execution_count": 189,
   "id": "367c8077",
   "metadata": {
    "scrolled": true
   },
   "outputs": [
    {
     "data": {
      "text/plain": [
       "numpy.ndarray"
      ]
     },
     "execution_count": 189,
     "metadata": {},
     "output_type": "execute_result"
    }
   ],
   "source": [
    "type(dist_matrix)"
   ]
  },
  {
   "cell_type": "code",
   "execution_count": 132,
   "id": "994ac538",
   "metadata": {},
   "outputs": [
    {
     "data": {
      "text/plain": [
       "<AxesSubplot:>"
      ]
     },
     "execution_count": 132,
     "metadata": {},
     "output_type": "execute_result"
    },
    {
     "data": {
      "image/png": "[encoded data removed]",
      "text/plain": [
       "<Figure size 432x288 with 2 Axes>"
      ]
     },
     "metadata": {
      "needs_background": "light"
     },
     "output_type": "display_data"
    }
   ],
   "source": [
    "sns.heatmap(pd.DataFrame(dist_matrix),annot=True)"
   ]
  },
  {
   "cell_type": "code",
   "execution_count": 140,
   "id": "a99c758e",
   "metadata": {},
   "outputs": [
    {
     "data": {
      "text/plain": [
       "<AxesSubplot:>"
      ]
     },
     "execution_count": 140,
     "metadata": {},
     "output_type": "execute_result"
    },
    {
     "data": {
      "image/png": "[encoded data removed]",
      "text/plain": [
       "<Figure size 432x288 with 2 Axes>"
      ]
     },
     "metadata": {
      "needs_background": "light"
     },
     "output_type": "display_data"
    }
   ],
   "source": [
    "dist_matrix2 = dist_matrix.copy()\n",
    "sns.heatmap(pd.DataFrame(dist_matrix2),annot=True)"
   ]
  },
  {
   "cell_type": "code",
   "execution_count": 141,
   "id": "b11a7fb5",
   "metadata": {
    "scrolled": true
   },
   "outputs": [
    {
     "name": "stderr",
     "output_type": "stream",
     "text": [
      "/var/folders/l4/tfnrkckd1mj12_lf97sckpfc0000gn/T/ipykernel_788/1967860933.py:1: RuntimeWarning: All-NaN axis encountered\n",
      "  dist_matrix2[4] = dist_matrix2[5] = np.nanmin((dist_matrix2[4],dist_matrix2[5]), axis = 0)\n",
      "/var/folders/l4/tfnrkckd1mj12_lf97sckpfc0000gn/T/ipykernel_788/1967860933.py:2: RuntimeWarning: All-NaN axis encountered\n",
      "  dist_matrix2[:,4] = dist_matrix2[:,5] = np.nanmin((dist_matrix2[:,4],dist_matrix2[:,5]), axis = 0)\n"
     ]
    }
   ],
   "source": [
    "dist_matrix2[4] = dist_matrix2[5] = np.nanmin((dist_matrix2[4],dist_matrix2[5]), axis = 0)\n",
    "dist_matrix2[:,4] = dist_matrix2[:,5] = np.nanmin((dist_matrix2[:,4],dist_matrix2[:,5]), axis = 0)"
   ]
  },
  {
   "cell_type": "code",
   "execution_count": 174,
   "id": "c08cb907",
   "metadata": {},
   "outputs": [
    {
     "name": "stderr",
     "output_type": "stream",
     "text": [
      "/var/folders/l4/tfnrkckd1mj12_lf97sckpfc0000gn/T/ipykernel_788/671297507.py:1: RuntimeWarning: Mean of empty slice\n",
      "  np.nanmean((dist_matrix2[4],dist_matrix2[5]), axis = 0)\n"
     ]
    },
    {
     "data": {
      "text/plain": [
       "array([       nan,        nan,        nan,        nan, 0.41853595,\n",
       "       0.41853595, 8.36404596, 8.32228291, 7.05398413, 0.42482488])"
      ]
     },
     "execution_count": 174,
     "metadata": {},
     "output_type": "execute_result"
    }
   ],
   "source": [
    "np.nanmean((dist_matrix2[4],dist_matrix2[5]), axis = 0)"
   ]
  },
  {
   "cell_type": "code",
   "execution_count": 142,
   "id": "525306ec",
   "metadata": {},
   "outputs": [
    {
     "data": {
      "text/plain": [
       "<AxesSubplot:>"
      ]
     },
     "execution_count": 142,
     "metadata": {},
     "output_type": "execute_result"
    },
    {
     "data": {
      "image/png": "[encoded data removed]",
      "text/plain": [
       "<Figure size 432x288 with 2 Axes>"
      ]
     },
     "metadata": {
      "needs_background": "light"
     },
     "output_type": "display_data"
    }
   ],
   "source": [
    "sns.heatmap(pd.DataFrame(dist_matrix2),annot=True)"
   ]
  },
  {
   "cell_type": "code",
   "execution_count": 101,
   "id": "9981c37f",
   "metadata": {},
   "outputs": [
    {
     "data": {
      "text/plain": [
       "(4, 5)"
      ]
     },
     "execution_count": 101,
     "metadata": {},
     "output_type": "execute_result"
    }
   ],
   "source": [
    "# index 4, 5 has the smallest distance value with a value of 0.418\n",
    "get_min_index(dist_matrix)"
   ]
  },
  {
   "cell_type": "code",
   "execution_count": 144,
   "id": "d0a6c9fb",
   "metadata": {},
   "outputs": [
    {
     "data": {
      "text/plain": [
       "<AxesSubplot:>"
      ]
     },
     "execution_count": 144,
     "metadata": {},
     "output_type": "execute_result"
    },
    {
     "data": {
      "image/png": "[encoded data removed]",
      "text/plain": [
       "<Figure size 432x288 with 2 Axes>"
      ]
     },
     "metadata": {
      "needs_background": "light"
     },
     "output_type": "display_data"
    }
   ],
   "source": [
    "sns.heatmap(pd.DataFrame(dist_matrix2),annot=True)"
   ]
  },
  {
   "cell_type": "code",
   "execution_count": 145,
   "id": "ee262c33",
   "metadata": {},
   "outputs": [],
   "source": [
    "i,j = get_min_index(dist_matrix)"
   ]
  },
  {
   "cell_type": "code",
   "execution_count": 146,
   "id": "93e73679",
   "metadata": {},
   "outputs": [
    {
     "data": {
      "text/plain": [
       "(4, 5)"
      ]
     },
     "execution_count": 146,
     "metadata": {},
     "output_type": "execute_result"
    }
   ],
   "source": [
    "i,j"
   ]
  },
  {
   "cell_type": "code",
   "execution_count": 166,
   "id": "ca2fa2c4",
   "metadata": {},
   "outputs": [
    {
     "data": {
      "text/html": [
       "<div>\n",
       "<style scoped>\n",
       "    .dataframe tbody tr th:only-of-type {\n",
       "        vertical-align: middle;\n",
       "    }\n",
       "\n",
       "    .dataframe tbody tr th {\n",
       "        vertical-align: top;\n",
       "    }\n",
       "\n",
       "    .dataframe thead th {\n",
       "        text-align: right;\n",
       "    }\n",
       "</style>\n",
       "<table border=\"1\" class=\"dataframe\">\n",
       "  <thead>\n",
       "    <tr style=\"text-align: right;\">\n",
       "      <th></th>\n",
       "      <th>0</th>\n",
       "      <th>1</th>\n",
       "      <th>2</th>\n",
       "      <th>3</th>\n",
       "      <th>4</th>\n",
       "      <th>5</th>\n",
       "      <th>6</th>\n",
       "      <th>7</th>\n",
       "      <th>8</th>\n",
       "    </tr>\n",
       "  </thead>\n",
       "  <tbody>\n",
       "    <tr>\n",
       "      <th>0</th>\n",
       "      <td>NaN</td>\n",
       "      <td>11.206809</td>\n",
       "      <td>2.543861</td>\n",
       "      <td>1.458083</td>\n",
       "      <td>6.121414</td>\n",
       "      <td>13.784780</td>\n",
       "      <td>13.342922</td>\n",
       "      <td>1.286277</td>\n",
       "      <td>5.991736</td>\n",
       "    </tr>\n",
       "    <tr>\n",
       "      <th>1</th>\n",
       "      <td>NaN</td>\n",
       "      <td>NaN</td>\n",
       "      <td>11.862854</td>\n",
       "      <td>11.482788</td>\n",
       "      <td>6.275526</td>\n",
       "      <td>2.766665</td>\n",
       "      <td>2.143065</td>\n",
       "      <td>12.409679</td>\n",
       "      <td>6.067992</td>\n",
       "    </tr>\n",
       "    <tr>\n",
       "      <th>2</th>\n",
       "      <td>NaN</td>\n",
       "      <td>NaN</td>\n",
       "      <td>NaN</td>\n",
       "      <td>1.086901</td>\n",
       "      <td>7.844350</td>\n",
       "      <td>14.584554</td>\n",
       "      <td>13.923801</td>\n",
       "      <td>3.100593</td>\n",
       "      <td>7.607397</td>\n",
       "    </tr>\n",
       "    <tr>\n",
       "      <th>3</th>\n",
       "      <td>NaN</td>\n",
       "      <td>NaN</td>\n",
       "      <td>NaN</td>\n",
       "      <td>NaN</td>\n",
       "      <td>7.021352</td>\n",
       "      <td>14.157542</td>\n",
       "      <td>13.584508</td>\n",
       "      <td>2.174109</td>\n",
       "      <td>6.820751</td>\n",
       "    </tr>\n",
       "    <tr>\n",
       "      <th>4</th>\n",
       "      <td>NaN</td>\n",
       "      <td>NaN</td>\n",
       "      <td>NaN</td>\n",
       "      <td>NaN</td>\n",
       "      <td>0.418536</td>\n",
       "      <td>8.364046</td>\n",
       "      <td>8.322283</td>\n",
       "      <td>7.053984</td>\n",
       "      <td>0.424825</td>\n",
       "    </tr>\n",
       "    <tr>\n",
       "      <th>5</th>\n",
       "      <td>NaN</td>\n",
       "      <td>NaN</td>\n",
       "      <td>NaN</td>\n",
       "      <td>NaN</td>\n",
       "      <td>0.418536</td>\n",
       "      <td>8.364046</td>\n",
       "      <td>8.322283</td>\n",
       "      <td>7.053984</td>\n",
       "      <td>0.424825</td>\n",
       "    </tr>\n",
       "    <tr>\n",
       "      <th>6</th>\n",
       "      <td>NaN</td>\n",
       "      <td>NaN</td>\n",
       "      <td>NaN</td>\n",
       "      <td>NaN</td>\n",
       "      <td>NaN</td>\n",
       "      <td>NaN</td>\n",
       "      <td>1.360630</td>\n",
       "      <td>14.946822</td>\n",
       "      <td>8.253001</td>\n",
       "    </tr>\n",
       "    <tr>\n",
       "      <th>7</th>\n",
       "      <td>NaN</td>\n",
       "      <td>NaN</td>\n",
       "      <td>NaN</td>\n",
       "      <td>NaN</td>\n",
       "      <td>NaN</td>\n",
       "      <td>NaN</td>\n",
       "      <td>NaN</td>\n",
       "      <td>14.550524</td>\n",
       "      <td>8.145607</td>\n",
       "    </tr>\n",
       "    <tr>\n",
       "      <th>8</th>\n",
       "      <td>NaN</td>\n",
       "      <td>NaN</td>\n",
       "      <td>NaN</td>\n",
       "      <td>NaN</td>\n",
       "      <td>NaN</td>\n",
       "      <td>NaN</td>\n",
       "      <td>NaN</td>\n",
       "      <td>NaN</td>\n",
       "      <td>6.978432</td>\n",
       "    </tr>\n",
       "    <tr>\n",
       "      <th>9</th>\n",
       "      <td>NaN</td>\n",
       "      <td>NaN</td>\n",
       "      <td>NaN</td>\n",
       "      <td>NaN</td>\n",
       "      <td>NaN</td>\n",
       "      <td>NaN</td>\n",
       "      <td>NaN</td>\n",
       "      <td>NaN</td>\n",
       "      <td>NaN</td>\n",
       "    </tr>\n",
       "  </tbody>\n",
       "</table>\n",
       "</div>"
      ],
      "text/plain": [
       "    0          1          2          3         4          5          6  \\\n",
       "0 NaN  11.206809   2.543861   1.458083  6.121414  13.784780  13.342922   \n",
       "1 NaN        NaN  11.862854  11.482788  6.275526   2.766665   2.143065   \n",
       "2 NaN        NaN        NaN   1.086901  7.844350  14.584554  13.923801   \n",
       "3 NaN        NaN        NaN        NaN  7.021352  14.157542  13.584508   \n",
       "4 NaN        NaN        NaN        NaN  0.418536   8.364046   8.322283   \n",
       "5 NaN        NaN        NaN        NaN  0.418536   8.364046   8.322283   \n",
       "6 NaN        NaN        NaN        NaN       NaN        NaN   1.360630   \n",
       "7 NaN        NaN        NaN        NaN       NaN        NaN        NaN   \n",
       "8 NaN        NaN        NaN        NaN       NaN        NaN        NaN   \n",
       "9 NaN        NaN        NaN        NaN       NaN        NaN        NaN   \n",
       "\n",
       "           7         8  \n",
       "0   1.286277  5.991736  \n",
       "1  12.409679  6.067992  \n",
       "2   3.100593  7.607397  \n",
       "3   2.174109  6.820751  \n",
       "4   7.053984  0.424825  \n",
       "5   7.053984  0.424825  \n",
       "6  14.946822  8.253001  \n",
       "7  14.550524  8.145607  \n",
       "8        NaN  6.978432  \n",
       "9        NaN       NaN  "
      ]
     },
     "execution_count": 166,
     "metadata": {},
     "output_type": "execute_result"
    }
   ],
   "source": [
    "pd.DataFrame(np.delete(dist_matrix2, j,1))"
   ]
  },
  {
   "cell_type": "code",
   "execution_count": 167,
   "id": "dfd7d37f",
   "metadata": {},
   "outputs": [],
   "source": [
    "def delete_row_col(dist_matrix, row, col):\n",
    "    return np.delete(np.delete(dist_matrix, col,1),row,0)"
   ]
  },
  {
   "cell_type": "code",
   "execution_count": 169,
   "id": "53defb9f",
   "metadata": {},
   "outputs": [
    {
     "data": {
      "text/html": [
       "<div>\n",
       "<style scoped>\n",
       "    .dataframe tbody tr th:only-of-type {\n",
       "        vertical-align: middle;\n",
       "    }\n",
       "\n",
       "    .dataframe tbody tr th {\n",
       "        vertical-align: top;\n",
       "    }\n",
       "\n",
       "    .dataframe thead th {\n",
       "        text-align: right;\n",
       "    }\n",
       "</style>\n",
       "<table border=\"1\" class=\"dataframe\">\n",
       "  <thead>\n",
       "    <tr style=\"text-align: right;\">\n",
       "      <th></th>\n",
       "      <th>0</th>\n",
       "      <th>1</th>\n",
       "      <th>2</th>\n",
       "      <th>3</th>\n",
       "      <th>4</th>\n",
       "      <th>5</th>\n",
       "      <th>6</th>\n",
       "      <th>7</th>\n",
       "      <th>8</th>\n",
       "    </tr>\n",
       "  </thead>\n",
       "  <tbody>\n",
       "    <tr>\n",
       "      <th>0</th>\n",
       "      <td>NaN</td>\n",
       "      <td>11.206809</td>\n",
       "      <td>2.543861</td>\n",
       "      <td>1.458083</td>\n",
       "      <td>6.121414</td>\n",
       "      <td>13.784780</td>\n",
       "      <td>13.342922</td>\n",
       "      <td>1.286277</td>\n",
       "      <td>5.991736</td>\n",
       "    </tr>\n",
       "    <tr>\n",
       "      <th>1</th>\n",
       "      <td>NaN</td>\n",
       "      <td>NaN</td>\n",
       "      <td>11.862854</td>\n",
       "      <td>11.482788</td>\n",
       "      <td>6.275526</td>\n",
       "      <td>2.766665</td>\n",
       "      <td>2.143065</td>\n",
       "      <td>12.409679</td>\n",
       "      <td>6.067992</td>\n",
       "    </tr>\n",
       "    <tr>\n",
       "      <th>2</th>\n",
       "      <td>NaN</td>\n",
       "      <td>NaN</td>\n",
       "      <td>NaN</td>\n",
       "      <td>1.086901</td>\n",
       "      <td>7.844350</td>\n",
       "      <td>14.584554</td>\n",
       "      <td>13.923801</td>\n",
       "      <td>3.100593</td>\n",
       "      <td>7.607397</td>\n",
       "    </tr>\n",
       "    <tr>\n",
       "      <th>3</th>\n",
       "      <td>NaN</td>\n",
       "      <td>NaN</td>\n",
       "      <td>NaN</td>\n",
       "      <td>NaN</td>\n",
       "      <td>7.021352</td>\n",
       "      <td>14.157542</td>\n",
       "      <td>13.584508</td>\n",
       "      <td>2.174109</td>\n",
       "      <td>6.820751</td>\n",
       "    </tr>\n",
       "    <tr>\n",
       "      <th>4</th>\n",
       "      <td>NaN</td>\n",
       "      <td>NaN</td>\n",
       "      <td>NaN</td>\n",
       "      <td>NaN</td>\n",
       "      <td>0.418536</td>\n",
       "      <td>8.364046</td>\n",
       "      <td>8.322283</td>\n",
       "      <td>7.053984</td>\n",
       "      <td>0.424825</td>\n",
       "    </tr>\n",
       "    <tr>\n",
       "      <th>5</th>\n",
       "      <td>NaN</td>\n",
       "      <td>NaN</td>\n",
       "      <td>NaN</td>\n",
       "      <td>NaN</td>\n",
       "      <td>NaN</td>\n",
       "      <td>NaN</td>\n",
       "      <td>1.360630</td>\n",
       "      <td>14.946822</td>\n",
       "      <td>8.253001</td>\n",
       "    </tr>\n",
       "    <tr>\n",
       "      <th>6</th>\n",
       "      <td>NaN</td>\n",
       "      <td>NaN</td>\n",
       "      <td>NaN</td>\n",
       "      <td>NaN</td>\n",
       "      <td>NaN</td>\n",
       "      <td>NaN</td>\n",
       "      <td>NaN</td>\n",
       "      <td>14.550524</td>\n",
       "      <td>8.145607</td>\n",
       "    </tr>\n",
       "    <tr>\n",
       "      <th>7</th>\n",
       "      <td>NaN</td>\n",
       "      <td>NaN</td>\n",
       "      <td>NaN</td>\n",
       "      <td>NaN</td>\n",
       "      <td>NaN</td>\n",
       "      <td>NaN</td>\n",
       "      <td>NaN</td>\n",
       "      <td>NaN</td>\n",
       "      <td>6.978432</td>\n",
       "    </tr>\n",
       "    <tr>\n",
       "      <th>8</th>\n",
       "      <td>NaN</td>\n",
       "      <td>NaN</td>\n",
       "      <td>NaN</td>\n",
       "      <td>NaN</td>\n",
       "      <td>NaN</td>\n",
       "      <td>NaN</td>\n",
       "      <td>NaN</td>\n",
       "      <td>NaN</td>\n",
       "      <td>NaN</td>\n",
       "    </tr>\n",
       "  </tbody>\n",
       "</table>\n",
       "</div>"
      ],
      "text/plain": [
       "    0          1          2          3         4          5          6  \\\n",
       "0 NaN  11.206809   2.543861   1.458083  6.121414  13.784780  13.342922   \n",
       "1 NaN        NaN  11.862854  11.482788  6.275526   2.766665   2.143065   \n",
       "2 NaN        NaN        NaN   1.086901  7.844350  14.584554  13.923801   \n",
       "3 NaN        NaN        NaN        NaN  7.021352  14.157542  13.584508   \n",
       "4 NaN        NaN        NaN        NaN  0.418536   8.364046   8.322283   \n",
       "5 NaN        NaN        NaN        NaN       NaN        NaN   1.360630   \n",
       "6 NaN        NaN        NaN        NaN       NaN        NaN        NaN   \n",
       "7 NaN        NaN        NaN        NaN       NaN        NaN        NaN   \n",
       "8 NaN        NaN        NaN        NaN       NaN        NaN        NaN   \n",
       "\n",
       "           7         8  \n",
       "0   1.286277  5.991736  \n",
       "1  12.409679  6.067992  \n",
       "2   3.100593  7.607397  \n",
       "3   2.174109  6.820751  \n",
       "4   7.053984  0.424825  \n",
       "5  14.946822  8.253001  \n",
       "6  14.550524  8.145607  \n",
       "7        NaN  6.978432  \n",
       "8        NaN       NaN  "
      ]
     },
     "execution_count": 169,
     "metadata": {},
     "output_type": "execute_result"
    }
   ],
   "source": [
    "row = col = 5\n",
    "a = delete_row_col(dist_matrix2,row,col)\n",
    "pd.DataFrame(a)"
   ]
  },
  {
   "cell_type": "code",
   "execution_count": 157,
   "id": "21522e27",
   "metadata": {},
   "outputs": [
    {
     "data": {
      "text/html": [
       "<div>\n",
       "<style scoped>\n",
       "    .dataframe tbody tr th:only-of-type {\n",
       "        vertical-align: middle;\n",
       "    }\n",
       "\n",
       "    .dataframe tbody tr th {\n",
       "        vertical-align: top;\n",
       "    }\n",
       "\n",
       "    .dataframe thead th {\n",
       "        text-align: right;\n",
       "    }\n",
       "</style>\n",
       "<table border=\"1\" class=\"dataframe\">\n",
       "  <thead>\n",
       "    <tr style=\"text-align: right;\">\n",
       "      <th></th>\n",
       "      <th>0</th>\n",
       "      <th>1</th>\n",
       "      <th>2</th>\n",
       "      <th>3</th>\n",
       "      <th>4</th>\n",
       "      <th>5</th>\n",
       "      <th>6</th>\n",
       "      <th>7</th>\n",
       "      <th>8</th>\n",
       "      <th>9</th>\n",
       "    </tr>\n",
       "  </thead>\n",
       "  <tbody>\n",
       "    <tr>\n",
       "      <th>0</th>\n",
       "      <td>NaN</td>\n",
       "      <td>11.206809</td>\n",
       "      <td>2.543861</td>\n",
       "      <td>1.458083</td>\n",
       "      <td>6.121414</td>\n",
       "      <td>6.121414</td>\n",
       "      <td>13.784780</td>\n",
       "      <td>13.342922</td>\n",
       "      <td>1.286277</td>\n",
       "      <td>5.991736</td>\n",
       "    </tr>\n",
       "    <tr>\n",
       "      <th>1</th>\n",
       "      <td>NaN</td>\n",
       "      <td>NaN</td>\n",
       "      <td>11.862854</td>\n",
       "      <td>11.482788</td>\n",
       "      <td>6.275526</td>\n",
       "      <td>6.275526</td>\n",
       "      <td>2.766665</td>\n",
       "      <td>2.143065</td>\n",
       "      <td>12.409679</td>\n",
       "      <td>6.067992</td>\n",
       "    </tr>\n",
       "    <tr>\n",
       "      <th>2</th>\n",
       "      <td>NaN</td>\n",
       "      <td>NaN</td>\n",
       "      <td>NaN</td>\n",
       "      <td>1.086901</td>\n",
       "      <td>7.844350</td>\n",
       "      <td>7.844350</td>\n",
       "      <td>14.584554</td>\n",
       "      <td>13.923801</td>\n",
       "      <td>3.100593</td>\n",
       "      <td>7.607397</td>\n",
       "    </tr>\n",
       "    <tr>\n",
       "      <th>3</th>\n",
       "      <td>NaN</td>\n",
       "      <td>NaN</td>\n",
       "      <td>NaN</td>\n",
       "      <td>NaN</td>\n",
       "      <td>7.021352</td>\n",
       "      <td>7.021352</td>\n",
       "      <td>14.157542</td>\n",
       "      <td>13.584508</td>\n",
       "      <td>2.174109</td>\n",
       "      <td>6.820751</td>\n",
       "    </tr>\n",
       "    <tr>\n",
       "      <th>4</th>\n",
       "      <td>NaN</td>\n",
       "      <td>NaN</td>\n",
       "      <td>NaN</td>\n",
       "      <td>NaN</td>\n",
       "      <td>0.418536</td>\n",
       "      <td>0.418536</td>\n",
       "      <td>8.364046</td>\n",
       "      <td>8.322283</td>\n",
       "      <td>7.053984</td>\n",
       "      <td>0.424825</td>\n",
       "    </tr>\n",
       "    <tr>\n",
       "      <th>5</th>\n",
       "      <td>NaN</td>\n",
       "      <td>NaN</td>\n",
       "      <td>NaN</td>\n",
       "      <td>NaN</td>\n",
       "      <td>NaN</td>\n",
       "      <td>NaN</td>\n",
       "      <td>NaN</td>\n",
       "      <td>1.360630</td>\n",
       "      <td>14.946822</td>\n",
       "      <td>8.253001</td>\n",
       "    </tr>\n",
       "    <tr>\n",
       "      <th>6</th>\n",
       "      <td>NaN</td>\n",
       "      <td>NaN</td>\n",
       "      <td>NaN</td>\n",
       "      <td>NaN</td>\n",
       "      <td>NaN</td>\n",
       "      <td>NaN</td>\n",
       "      <td>NaN</td>\n",
       "      <td>NaN</td>\n",
       "      <td>14.550524</td>\n",
       "      <td>8.145607</td>\n",
       "    </tr>\n",
       "    <tr>\n",
       "      <th>7</th>\n",
       "      <td>NaN</td>\n",
       "      <td>NaN</td>\n",
       "      <td>NaN</td>\n",
       "      <td>NaN</td>\n",
       "      <td>NaN</td>\n",
       "      <td>NaN</td>\n",
       "      <td>NaN</td>\n",
       "      <td>NaN</td>\n",
       "      <td>NaN</td>\n",
       "      <td>6.978432</td>\n",
       "    </tr>\n",
       "    <tr>\n",
       "      <th>8</th>\n",
       "      <td>NaN</td>\n",
       "      <td>NaN</td>\n",
       "      <td>NaN</td>\n",
       "      <td>NaN</td>\n",
       "      <td>NaN</td>\n",
       "      <td>NaN</td>\n",
       "      <td>NaN</td>\n",
       "      <td>NaN</td>\n",
       "      <td>NaN</td>\n",
       "      <td>NaN</td>\n",
       "    </tr>\n",
       "  </tbody>\n",
       "</table>\n",
       "</div>"
      ],
      "text/plain": [
       "    0          1          2          3         4         5          6  \\\n",
       "0 NaN  11.206809   2.543861   1.458083  6.121414  6.121414  13.784780   \n",
       "1 NaN        NaN  11.862854  11.482788  6.275526  6.275526   2.766665   \n",
       "2 NaN        NaN        NaN   1.086901  7.844350  7.844350  14.584554   \n",
       "3 NaN        NaN        NaN        NaN  7.021352  7.021352  14.157542   \n",
       "4 NaN        NaN        NaN        NaN  0.418536  0.418536   8.364046   \n",
       "5 NaN        NaN        NaN        NaN       NaN       NaN        NaN   \n",
       "6 NaN        NaN        NaN        NaN       NaN       NaN        NaN   \n",
       "7 NaN        NaN        NaN        NaN       NaN       NaN        NaN   \n",
       "8 NaN        NaN        NaN        NaN       NaN       NaN        NaN   \n",
       "\n",
       "           7          8         9  \n",
       "0  13.342922   1.286277  5.991736  \n",
       "1   2.143065  12.409679  6.067992  \n",
       "2  13.923801   3.100593  7.607397  \n",
       "3  13.584508   2.174109  6.820751  \n",
       "4   8.322283   7.053984  0.424825  \n",
       "5   1.360630  14.946822  8.253001  \n",
       "6        NaN  14.550524  8.145607  \n",
       "7        NaN        NaN  6.978432  \n",
       "8        NaN        NaN       NaN  "
      ]
     },
     "execution_count": 157,
     "metadata": {},
     "output_type": "execute_result"
    }
   ],
   "source": []
  },
  {
   "cell_type": "code",
   "execution_count": 158,
   "id": "abb52b82",
   "metadata": {},
   "outputs": [
    {
     "ename": "AxisError",
     "evalue": "axis 4 is out of bounds for array of dimension 2",
     "output_type": "error",
     "traceback": [
      "\u001b[0;31m---------------------------------------------------------------------------\u001b[0m",
      "\u001b[0;31mAxisError\u001b[0m                                 Traceback (most recent call last)",
      "Input \u001b[0;32mIn [158]\u001b[0m, in \u001b[0;36m<cell line: 1>\u001b[0;34m()\u001b[0m\n\u001b[0;32m----> 1\u001b[0m b \u001b[38;5;241m=\u001b[39m \u001b[43mnp\u001b[49m\u001b[38;5;241;43m.\u001b[39;49m\u001b[43mdelete\u001b[49m\u001b[43m(\u001b[49m\u001b[43ma\u001b[49m\u001b[43m,\u001b[49m\u001b[43m \u001b[49m\u001b[38;5;241;43m0\u001b[39;49m\u001b[43m,\u001b[49m\u001b[43mi\u001b[49m\u001b[43m)\u001b[49m\n\u001b[1;32m      2\u001b[0m pd\u001b[38;5;241m.\u001b[39mDataFrame(b)\n",
      "File \u001b[0;32m<__array_function__ internals>:5\u001b[0m, in \u001b[0;36mdelete\u001b[0;34m(*args, **kwargs)\u001b[0m\n",
      "File \u001b[0;32m/opt/homebrew/Caskroom/miniforge/base/envs/tensorflow/lib/python3.9/site-packages/numpy/lib/function_base.py:4318\u001b[0m, in \u001b[0;36mdelete\u001b[0;34m(arr, obj, axis)\u001b[0m\n\u001b[1;32m   4316\u001b[0m     axis \u001b[38;5;241m=\u001b[39m ndim \u001b[38;5;241m-\u001b[39m \u001b[38;5;241m1\u001b[39m\n\u001b[1;32m   4317\u001b[0m \u001b[38;5;28;01melse\u001b[39;00m:\n\u001b[0;32m-> 4318\u001b[0m     axis \u001b[38;5;241m=\u001b[39m \u001b[43mnormalize_axis_index\u001b[49m\u001b[43m(\u001b[49m\u001b[43maxis\u001b[49m\u001b[43m,\u001b[49m\u001b[43m \u001b[49m\u001b[43mndim\u001b[49m\u001b[43m)\u001b[49m\n\u001b[1;32m   4320\u001b[0m slobj \u001b[38;5;241m=\u001b[39m [\u001b[38;5;28mslice\u001b[39m(\u001b[38;5;28;01mNone\u001b[39;00m)]\u001b[38;5;241m*\u001b[39mndim\n\u001b[1;32m   4321\u001b[0m N \u001b[38;5;241m=\u001b[39m arr\u001b[38;5;241m.\u001b[39mshape[axis]\n",
      "\u001b[0;31mAxisError\u001b[0m: axis 4 is out of bounds for array of dimension 2"
     ]
    }
   ],
   "source": [
    "b = np.delete(a, 0,i)\n",
    "pd.DataFrame(b)"
   ]
  },
  {
   "cell_type": "code",
   "execution_count": 143,
   "id": "0bb3f423",
   "metadata": {},
   "outputs": [],
   "source": [
    "# updating the original cluster dict so that each key corresponds to the index in the distance matrix\n",
    "for i in cluster_dict.keys():\n",
    "    cluster_dict[i] = int(i)"
   ]
  },
  {
   "cell_type": "code",
   "execution_count": 175,
   "id": "dac63d14",
   "metadata": {},
   "outputs": [
    {
     "data": {
      "text/plain": [
       "(4, 5)"
      ]
     },
     "execution_count": 175,
     "metadata": {},
     "output_type": "execute_result"
    }
   ],
   "source": [
    "i,j"
   ]
  },
  {
   "cell_type": "code",
   "execution_count": 176,
   "id": "2c78f2a2",
   "metadata": {},
   "outputs": [
    {
     "data": {
      "text/plain": [
       "{'0': 0,\n",
       " '1': 1,\n",
       " '2': 2,\n",
       " '3': 3,\n",
       " '4': 4,\n",
       " '5': 5,\n",
       " '6': 6,\n",
       " '7': 7,\n",
       " '8': 8,\n",
       " '9': 9}"
      ]
     },
     "execution_count": 176,
     "metadata": {},
     "output_type": "execute_result"
    }
   ],
   "source": [
    "cluster_dict"
   ]
  },
  {
   "cell_type": "code",
   "execution_count": null,
   "id": "efc41a35",
   "metadata": {},
   "outputs": [],
   "source": [
    "def merge_clusters(dist_matrix, dist_type):\n",
    "    i,j = get_min_index(dist_matrix)\n",
    "    \n",
    "    if dist_type = \"single\":\n",
    "        # Take the minimum values of both the clusters and take the 'min' value\n",
    "        dist_matrix[i] = dist_matrix[j] = np.nanmin((dist_matrix[i],dist_matrix[j]), axis = 0)\n",
    "        dist_matrix[:,i] = dist_matrix[:,j] = np.nanmin((dist_matrix[:,i],dist_matrix[:,j]), axis = 0)\n",
    "        \n",
    "    elif dist_type = \"complete\":\n",
    "        # Take the minimum values of both the clusters and take the 'max' value\n",
    "        dist_matrix[i] = dist_matrix[j] = np.nanmax((dist_matrix[i],dist_matrix[j]), axis = 0)\n",
    "        dist_matrix[:,i] = dist_matrix[:,j] = np.nanmax((dist_matrix[:,i],dist_matrix[:,j]), axis = 0)\n",
    "        \n",
    "    else:\n",
    "        # Take the minimum values of both the clusters and take the 'avg' value\n",
    "        dist_matrix[i] = dist_matrix[j] = np.nanmean((dist_matrix[i],dist_matrix[j]), axis = 0)\n",
    "        dist_matrix[:,i] = dist_matrix[:,j] = np.nanmean((dist_matrix[:,i],dist_matrix[:,j]), axis = 0)        \n",
    "\n",
    "    dist_matrix[i,i] = np.nan\n",
    "    \n",
    "    \n",
    "    "
   ]
  },
  {
   "cell_type": "code",
   "execution_count": 99,
   "id": "90651127",
   "metadata": {},
   "outputs": [
    {
     "data": {
      "text/plain": [
       "{'0': 0,\n",
       " '1': 1,\n",
       " '2': 2,\n",
       " '3': 3,\n",
       " '4': 4,\n",
       " '5': 5,\n",
       " '6': 6,\n",
       " '7': 7,\n",
       " '8': 8,\n",
       " '9': 9}"
      ]
     },
     "execution_count": 99,
     "metadata": {},
     "output_type": "execute_result"
    }
   ],
   "source": []
  },
  {
   "cell_type": "code",
   "execution_count": 171,
   "id": "428667cc",
   "metadata": {},
   "outputs": [],
   "source": [
    "dist_matrix2[i,i] = np.nan"
   ]
  },
  {
   "cell_type": "code",
   "execution_count": 172,
   "id": "1130fd18",
   "metadata": {},
   "outputs": [
    {
     "data": {
      "text/html": [
       "<div>\n",
       "<style scoped>\n",
       "    .dataframe tbody tr th:only-of-type {\n",
       "        vertical-align: middle;\n",
       "    }\n",
       "\n",
       "    .dataframe tbody tr th {\n",
       "        vertical-align: top;\n",
       "    }\n",
       "\n",
       "    .dataframe thead th {\n",
       "        text-align: right;\n",
       "    }\n",
       "</style>\n",
       "<table border=\"1\" class=\"dataframe\">\n",
       "  <thead>\n",
       "    <tr style=\"text-align: right;\">\n",
       "      <th></th>\n",
       "      <th>0</th>\n",
       "      <th>1</th>\n",
       "      <th>2</th>\n",
       "      <th>3</th>\n",
       "      <th>4</th>\n",
       "      <th>5</th>\n",
       "      <th>6</th>\n",
       "      <th>7</th>\n",
       "      <th>8</th>\n",
       "      <th>9</th>\n",
       "    </tr>\n",
       "  </thead>\n",
       "  <tbody>\n",
       "    <tr>\n",
       "      <th>0</th>\n",
       "      <td>NaN</td>\n",
       "      <td>11.206809</td>\n",
       "      <td>2.543861</td>\n",
       "      <td>1.458083</td>\n",
       "      <td>6.121414</td>\n",
       "      <td>6.121414</td>\n",
       "      <td>13.784780</td>\n",
       "      <td>13.342922</td>\n",
       "      <td>1.286277</td>\n",
       "      <td>5.991736</td>\n",
       "    </tr>\n",
       "    <tr>\n",
       "      <th>1</th>\n",
       "      <td>NaN</td>\n",
       "      <td>NaN</td>\n",
       "      <td>11.862854</td>\n",
       "      <td>11.482788</td>\n",
       "      <td>6.275526</td>\n",
       "      <td>6.275526</td>\n",
       "      <td>2.766665</td>\n",
       "      <td>2.143065</td>\n",
       "      <td>12.409679</td>\n",
       "      <td>6.067992</td>\n",
       "    </tr>\n",
       "    <tr>\n",
       "      <th>2</th>\n",
       "      <td>NaN</td>\n",
       "      <td>NaN</td>\n",
       "      <td>NaN</td>\n",
       "      <td>1.086901</td>\n",
       "      <td>7.844350</td>\n",
       "      <td>7.844350</td>\n",
       "      <td>14.584554</td>\n",
       "      <td>13.923801</td>\n",
       "      <td>3.100593</td>\n",
       "      <td>7.607397</td>\n",
       "    </tr>\n",
       "    <tr>\n",
       "      <th>3</th>\n",
       "      <td>NaN</td>\n",
       "      <td>NaN</td>\n",
       "      <td>NaN</td>\n",
       "      <td>NaN</td>\n",
       "      <td>7.021352</td>\n",
       "      <td>7.021352</td>\n",
       "      <td>14.157542</td>\n",
       "      <td>13.584508</td>\n",
       "      <td>2.174109</td>\n",
       "      <td>6.820751</td>\n",
       "    </tr>\n",
       "    <tr>\n",
       "      <th>4</th>\n",
       "      <td>NaN</td>\n",
       "      <td>NaN</td>\n",
       "      <td>NaN</td>\n",
       "      <td>NaN</td>\n",
       "      <td>NaN</td>\n",
       "      <td>0.418536</td>\n",
       "      <td>8.364046</td>\n",
       "      <td>8.322283</td>\n",
       "      <td>7.053984</td>\n",
       "      <td>0.424825</td>\n",
       "    </tr>\n",
       "    <tr>\n",
       "      <th>5</th>\n",
       "      <td>NaN</td>\n",
       "      <td>NaN</td>\n",
       "      <td>NaN</td>\n",
       "      <td>NaN</td>\n",
       "      <td>0.418536</td>\n",
       "      <td>0.418536</td>\n",
       "      <td>8.364046</td>\n",
       "      <td>8.322283</td>\n",
       "      <td>7.053984</td>\n",
       "      <td>0.424825</td>\n",
       "    </tr>\n",
       "    <tr>\n",
       "      <th>6</th>\n",
       "      <td>NaN</td>\n",
       "      <td>NaN</td>\n",
       "      <td>NaN</td>\n",
       "      <td>NaN</td>\n",
       "      <td>NaN</td>\n",
       "      <td>NaN</td>\n",
       "      <td>NaN</td>\n",
       "      <td>1.360630</td>\n",
       "      <td>14.946822</td>\n",
       "      <td>8.253001</td>\n",
       "    </tr>\n",
       "    <tr>\n",
       "      <th>7</th>\n",
       "      <td>NaN</td>\n",
       "      <td>NaN</td>\n",
       "      <td>NaN</td>\n",
       "      <td>NaN</td>\n",
       "      <td>NaN</td>\n",
       "      <td>NaN</td>\n",
       "      <td>NaN</td>\n",
       "      <td>NaN</td>\n",
       "      <td>14.550524</td>\n",
       "      <td>8.145607</td>\n",
       "    </tr>\n",
       "    <tr>\n",
       "      <th>8</th>\n",
       "      <td>NaN</td>\n",
       "      <td>NaN</td>\n",
       "      <td>NaN</td>\n",
       "      <td>NaN</td>\n",
       "      <td>NaN</td>\n",
       "      <td>NaN</td>\n",
       "      <td>NaN</td>\n",
       "      <td>NaN</td>\n",
       "      <td>NaN</td>\n",
       "      <td>6.978432</td>\n",
       "    </tr>\n",
       "    <tr>\n",
       "      <th>9</th>\n",
       "      <td>NaN</td>\n",
       "      <td>NaN</td>\n",
       "      <td>NaN</td>\n",
       "      <td>NaN</td>\n",
       "      <td>NaN</td>\n",
       "      <td>NaN</td>\n",
       "      <td>NaN</td>\n",
       "      <td>NaN</td>\n",
       "      <td>NaN</td>\n",
       "      <td>NaN</td>\n",
       "    </tr>\n",
       "  </tbody>\n",
       "</table>\n",
       "</div>"
      ],
      "text/plain": [
       "    0          1          2          3         4         5          6  \\\n",
       "0 NaN  11.206809   2.543861   1.458083  6.121414  6.121414  13.784780   \n",
       "1 NaN        NaN  11.862854  11.482788  6.275526  6.275526   2.766665   \n",
       "2 NaN        NaN        NaN   1.086901  7.844350  7.844350  14.584554   \n",
       "3 NaN        NaN        NaN        NaN  7.021352  7.021352  14.157542   \n",
       "4 NaN        NaN        NaN        NaN       NaN  0.418536   8.364046   \n",
       "5 NaN        NaN        NaN        NaN  0.418536  0.418536   8.364046   \n",
       "6 NaN        NaN        NaN        NaN       NaN       NaN        NaN   \n",
       "7 NaN        NaN        NaN        NaN       NaN       NaN        NaN   \n",
       "8 NaN        NaN        NaN        NaN       NaN       NaN        NaN   \n",
       "9 NaN        NaN        NaN        NaN       NaN       NaN        NaN   \n",
       "\n",
       "           7          8         9  \n",
       "0  13.342922   1.286277  5.991736  \n",
       "1   2.143065  12.409679  6.067992  \n",
       "2  13.923801   3.100593  7.607397  \n",
       "3  13.584508   2.174109  6.820751  \n",
       "4   8.322283   7.053984  0.424825  \n",
       "5   8.322283   7.053984  0.424825  \n",
       "6   1.360630  14.946822  8.253001  \n",
       "7        NaN  14.550524  8.145607  \n",
       "8        NaN        NaN  6.978432  \n",
       "9        NaN        NaN       NaN  "
      ]
     },
     "execution_count": 172,
     "metadata": {},
     "output_type": "execute_result"
    }
   ],
   "source": [
    "pd.DataFrame(dist_matrix2)"
   ]
  },
  {
   "cell_type": "code",
   "execution_count": null,
   "id": "4e32dc24",
   "metadata": {},
   "outputs": [],
   "source": []
  },
  {
   "cell_type": "code",
   "execution_count": null,
   "id": "b8ef5a38",
   "metadata": {},
   "outputs": [],
   "source": []
  }
 ],
 "metadata": {
  "kernelspec": {
   "display_name": "Python 3.9 (tensorflow)",
   "language": "python",
   "name": "tensorflow"
  },
  "language_info": {
   "codemirror_mode": {
    "name": "ipython",
    "version": 3
   },
   "file_extension": ".py",
   "mimetype": "text/x-python",
   "name": "python",
   "nbconvert_exporter": "python",
   "pygments_lexer": "ipython3",
   "version": "3.9.12"
  }
 },
 "nbformat": 4,
 "nbformat_minor": 5
}

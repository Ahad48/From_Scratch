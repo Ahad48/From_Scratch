{
 "cells": [
  {
   "cell_type": "code",
   "execution_count": 1,
   "id": "ef4462e7",
   "metadata": {},
   "outputs": [
    {
     "data": {
      "text/html": [
       "<style>.container { width:100% !important; }</style>"
      ],
      "text/plain": [
       "<IPython.core.display.HTML object>"
      ]
     },
     "metadata": {},
     "output_type": "display_data"
    }
   ],
   "source": [
    "import pandas as pd\n",
    "import numpy as np\n",
    "\n",
    "from IPython.display import display, HTML\n",
    "display(HTML(\"<style>.container { width:100% !important; }</style>\"))\n",
    "\n",
    "import matplotlib.pyplot as plt"
   ]
  },
  {
   "cell_type": "code",
   "execution_count": 2,
   "id": "c79712e8",
   "metadata": {},
   "outputs": [],
   "source": [
    "import matplotlib.pyplot as plt\n",
    "from sklearn.preprocessing import StandardScaler\n",
    "from sklearn.datasets import make_blobs"
   ]
  },
  {
   "cell_type": "code",
   "execution_count": 3,
   "id": "a25af356",
   "metadata": {},
   "outputs": [],
   "source": [
    "X, true_labels = make_blobs(1000,2, centers=4, random_state=14)"
   ]
  },
  {
   "cell_type": "code",
   "execution_count": 4,
   "id": "32dce764",
   "metadata": {},
   "outputs": [
    {
     "data": {
      "text/plain": [
       "<matplotlib.collections.PathCollection at 0x14f162250>"
      ]
     },
     "execution_count": 4,
     "metadata": {},
     "output_type": "execute_result"
    },
    {
     "data": {
      "image/png": "[encoded data removed]",
      "text/plain": [
       "<Figure size 432x288 with 1 Axes>"
      ]
     },
     "metadata": {
      "needs_background": "light"
     },
     "output_type": "display_data"
    }
   ],
   "source": [
    "plt.scatter(X[:,0],X[:,1])"
   ]
  },
  {
   "cell_type": "code",
   "execution_count": 5,
   "id": "5f406a5b",
   "metadata": {},
   "outputs": [],
   "source": [
    "sc = StandardScaler()\n",
    "X = sc.fit_transform(X)"
   ]
  },
  {
   "cell_type": "code",
   "execution_count": 6,
   "id": "fe127548",
   "metadata": {},
   "outputs": [],
   "source": [
    "test = np.random.normal(0,0.25, size=(1000,2))"
   ]
  },
  {
   "cell_type": "code",
   "execution_count": 7,
   "id": "10fe415e",
   "metadata": {},
   "outputs": [
    {
     "name": "stdout",
     "output_type": "stream",
     "text": [
      "2.16 µs ± 7.66 ns per loop (mean ± std. dev. of 7 runs, 100,000 loops each)\n"
     ]
    }
   ],
   "source": [
    "%%timeit\n",
    "(X - test)**2"
   ]
  },
  {
   "cell_type": "code",
   "execution_count": 8,
   "id": "8a617b7e",
   "metadata": {},
   "outputs": [
    {
     "name": "stdout",
     "output_type": "stream",
     "text": [
      "19.6 µs ± 225 ns per loop (mean ± std. dev. of 7 runs, 100,000 loops each)\n"
     ]
    }
   ],
   "source": [
    "%%timeit\n",
    "np.power((X-test),2)"
   ]
  },
  {
   "cell_type": "code",
   "execution_count": 9,
   "id": "2b6db902",
   "metadata": {},
   "outputs": [
    {
     "name": "stdout",
     "output_type": "stream",
     "text": [
      "9.78 µs ± 5.23 ns per loop (mean ± std. dev. of 7 runs, 100,000 loops each)\n"
     ]
    }
   ],
   "source": [
    "%%timeit\n",
    "np.sqrt(((X-test)**2).sum(axis=1))"
   ]
  },
  {
   "cell_type": "code",
   "execution_count": 10,
   "id": "7c1b72c6",
   "metadata": {},
   "outputs": [
    {
     "name": "stdout",
     "output_type": "stream",
     "text": [
      "9.78 µs ± 19.2 ns per loop (mean ± std. dev. of 7 runs, 100,000 loops each)\n"
     ]
    }
   ],
   "source": [
    "%%timeit\n",
    "(((X-test)**2).sum(axis=1))**0.5"
   ]
  },
  {
   "cell_type": "code",
   "execution_count": 11,
   "id": "ec41a3d1",
   "metadata": {},
   "outputs": [],
   "source": [
    "def euclidean_dis(point1, point2):\n",
    "    return (((point1-point2)**2).sum(axis=1))**0.5"
   ]
  },
  {
   "cell_type": "code",
   "execution_count": 12,
   "id": "ca5abdb2",
   "metadata": {},
   "outputs": [
    {
     "data": {
      "text/plain": [
       "array([0.55409196])"
      ]
     },
     "execution_count": 12,
     "metadata": {},
     "output_type": "execute_result"
    }
   ],
   "source": [
    "euclidean_dis(X[:1], np.zeros((1,2)))"
   ]
  },
  {
   "cell_type": "code",
   "execution_count": 13,
   "id": "89e5bd19",
   "metadata": {},
   "outputs": [],
   "source": [
    "## to implement a better centeroid selection method later"
   ]
  },
  {
   "cell_type": "code",
   "execution_count": 14,
   "id": "ddfee820",
   "metadata": {},
   "outputs": [
    {
     "data": {
      "text/plain": [
       "array([[ 1.44375872, -1.40189836],\n",
       "       [-0.65834218, -0.32509853],\n",
       "       [ 1.6399882 , -1.31530814],\n",
       "       [-0.41788913, -0.56707167]])"
      ]
     },
     "execution_count": 14,
     "metadata": {},
     "output_type": "execute_result"
    }
   ],
   "source": [
    "num_of_centers = 4\n",
    "centers = X[np.random.choice(X.shape[0], num_of_centers)]\n",
    "centers"
   ]
  },
  {
   "cell_type": "code",
   "execution_count": 15,
   "id": "9b9eea8a",
   "metadata": {},
   "outputs": [],
   "source": [
    "distance_matrix = np.zeros((X.shape[0],num_of_centers))"
   ]
  },
  {
   "cell_type": "code",
   "execution_count": 16,
   "id": "661d5ff8",
   "metadata": {},
   "outputs": [],
   "source": [
    "for i,center in enumerate(centers):\n",
    "    center_temp = np.repeat([center],X.shape[0], axis =0)\n",
    "    distance_matrix[:,i] = euclidean_dis(X,center_temp)"
   ]
  },
  {
   "cell_type": "code",
   "execution_count": 17,
   "id": "74a5abf4",
   "metadata": {},
   "outputs": [
    {
     "data": {
      "text/plain": [
       "array([[2.56613967, 0.73687741, 2.65572736, 0.93673883],\n",
       "       [0.06233295, 2.42389105, 0.18746879, 2.10191913],\n",
       "       [0.60283121, 2.92845929, 0.42706575, 2.6166625 ],\n",
       "       ...,\n",
       "       [2.37833083, 1.25213898, 2.41911452, 1.31753888],\n",
       "       [0.06992608, 2.30259175, 0.28142625, 1.97917797],\n",
       "       [0.06747888, 2.31221778, 0.28135355, 1.98836806]])"
      ]
     },
     "execution_count": 17,
     "metadata": {},
     "output_type": "execute_result"
    }
   ],
   "source": [
    "distance_matrix"
   ]
  },
  {
   "cell_type": "code",
   "execution_count": 18,
   "id": "5d6ea1d8",
   "metadata": {},
   "outputs": [],
   "source": [
    "clusters = np.argmin(distance_matrix, axis=1)"
   ]
  },
  {
   "cell_type": "code",
   "execution_count": 19,
   "id": "28fc05c8",
   "metadata": {},
   "outputs": [],
   "source": [
    "old_clusters = clusters"
   ]
  },
  {
   "cell_type": "code",
   "execution_count": 20,
   "id": "c2f467cc",
   "metadata": {},
   "outputs": [
    {
     "data": {
      "text/plain": [
       "array([ 1.33324459, -1.37202119])"
      ]
     },
     "execution_count": 20,
     "metadata": {},
     "output_type": "execute_result"
    }
   ],
   "source": [
    "np.mean(X[np.where(clusters == 0)], axis = 0)"
   ]
  },
  {
   "cell_type": "code",
   "execution_count": 21,
   "id": "46d3e27f",
   "metadata": {},
   "outputs": [
    {
     "data": {
      "text/plain": [
       "True"
      ]
     },
     "execution_count": 21,
     "metadata": {},
     "output_type": "execute_result"
    }
   ],
   "source": [
    "np.array_equal(old_clusters,clusters)"
   ]
  },
  {
   "cell_type": "code",
   "execution_count": 22,
   "id": "f45a27cb",
   "metadata": {},
   "outputs": [
    {
     "data": {
      "text/plain": [
       "array([[-1.10778757e-01,  7.56766984e-01],\n",
       "       [ 1.83678659e+00, -1.31349123e+00],\n",
       "       [-1.19562716e+00,  9.89762285e-01],\n",
       "       [-6.46631187e-04, -6.01662159e-01]])"
      ]
     },
     "execution_count": 22,
     "metadata": {},
     "output_type": "execute_result"
    }
   ],
   "source": [
    "np.array([[-1.10778757e-01,  7.56766984e-01],\n",
    "       [ 1.83678659e+00, -1.31349123e+00],\n",
    "       [-1.19562716e+00,  9.89762285e-01],\n",
    "       [-6.46631187e-04, -6.01662159e-01]])"
   ]
  },
  {
   "cell_type": "code",
   "execution_count": 23,
   "id": "a613fe5c",
   "metadata": {},
   "outputs": [],
   "source": [
    "for i in range(num_of_centers):\n",
    "    centers[i] = np.mean(X[np.where(clusters == i)], axis = 0)"
   ]
  },
  {
   "cell_type": "code",
   "execution_count": 24,
   "id": "0a19fde8",
   "metadata": {},
   "outputs": [
    {
     "data": {
      "text/plain": [
       "array([[ 1.33324459, -1.37202119],\n",
       "       [-0.67861157,  0.88552692],\n",
       "       [ 1.72348623, -1.30951663],\n",
       "       [-0.13811122, -0.52052209]])"
      ]
     },
     "execution_count": 24,
     "metadata": {},
     "output_type": "execute_result"
    }
   ],
   "source": [
    "centers"
   ]
  },
  {
   "cell_type": "code",
   "execution_count": 25,
   "id": "fd46a2a4",
   "metadata": {},
   "outputs": [],
   "source": [
    "def create_distance_matrix(X, centers):\n",
    "    distance_matrix = np.zeros((X.shape[0],centers.shape[0]))\n",
    "    \n",
    "    for i,center in enumerate(centers):\n",
    "        center_temp = np.repeat([center],X.shape[0], axis =0)\n",
    "        distance_matrix[:,i] = euclidean_dis(X,center_temp)\n",
    "    \n",
    "    return distance_matrix"
   ]
  },
  {
   "cell_type": "code",
   "execution_count": 33,
   "id": "c77fac4f",
   "metadata": {},
   "outputs": [],
   "source": [
    "def Kmeans(X, num_of_centers, epochs = 1500):\n",
    "    \n",
    "    epoch = 1\n",
    "    old_clusters = None\n",
    "    clusters = np.zeros(X.shape[0])\n",
    "    \n",
    "    # Selecting centers randomly\n",
    "    centers = X[np.random.choice(X.shape[0], num_of_centers)]\n",
    "    \n",
    "    while((epoch<=epochs)):\n",
    "        # Creating a distance matrix wrt all centers and data points\n",
    "        distance_matrix = create_distance_matrix(X, centers)\n",
    "        \n",
    "        # Assigning cluster to the center where the distance is minimum\n",
    "        clusters = np.argmin(distance_matrix, axis=1)\n",
    "        \n",
    "        # Updating old clusterx\n",
    "        for i in range(num_of_centers):\n",
    "            centers[i] = np.mean(X[np.where(clusters == i)], axis = 0)\n",
    "            \n",
    "        # if the old clusters and new clusters are same then stop\n",
    "        if np.array_equal(old_clusters,clusters):\n",
    "            break\n",
    "        old_clusters = clusters\n",
    "        \n",
    "        epoch += 1\n",
    "            \n",
    "    return centers, clusters\n"
   ]
  },
  {
   "cell_type": "code",
   "execution_count": null,
   "id": "b3b60dae",
   "metadata": {},
   "outputs": [],
   "source": []
  },
  {
   "cell_type": "code",
   "execution_count": 52,
   "id": "42003bc9",
   "metadata": {},
   "outputs": [],
   "source": [
    "import seaborn as sns"
   ]
  },
  {
   "cell_type": "code",
   "execution_count": 53,
   "id": "d5342eae",
   "metadata": {
    "scrolled": true
   },
   "outputs": [
    {
     "data": {
      "image/png": "[encoded data removed]",
      "text/plain": [
       "<Figure size 432x288 with 1 Axes>"
      ]
     },
     "metadata": {
      "needs_background": "light"
     },
     "output_type": "display_data"
    }
   ],
   "source": [
    "centers, clusters = Kmeans(X, 4)\n",
    "\n",
    "# View results\n",
    "sns.scatterplot(x=[x[0] for x in X],\n",
    "                y=[y[1] for y in X],\n",
    "                hue = true_labels,\n",
    "                style=clusters,\n",
    "                palette=\"deep\",\n",
    "                legend=None\n",
    "                )\n",
    "plt.plot([x for x, _ in centers],\n",
    "         [y for _, y in centers],\n",
    "         '+',\n",
    "         markersize=20\n",
    "         )\n",
    "\n",
    "plt.show()"
   ]
  },
  {
   "cell_type": "markdown",
   "id": "1ad33e11",
   "metadata": {},
   "source": [
    "### Becuase we selected centers randomly the clusters are not optimized"
   ]
  },
  {
   "cell_type": "markdown",
   "id": "68aa4e92",
   "metadata": {},
   "source": [
    "### Lets select clusters using a better method"
   ]
  },
  {
   "cell_type": "code",
   "execution_count": 54,
   "id": "00826854",
   "metadata": {},
   "outputs": [],
   "source": [
    "def create_centers(X, num_of_centers):\n",
    "\n",
    "    # Selecting a random center\n",
    "    centers = X[np.random.choice(X.shape[0], 1)]\n",
    "    \n",
    "    for i in range(num_of_centers-1):\n",
    "        # Calculating the sum from all the centers\n",
    "        dist = create_distance_matrix(X, centers).sum(axis = 1)\n",
    "        dist /= dist.sum()\n",
    "        \n",
    "        # Calculating the new center based on distance as probability\n",
    "        new_center = X[np.random.choice(X.shape[0], size = 1, p=dist)]\n",
    "        \n",
    "        centers = np.concatenate((centers, new_center), axis = 0)\n",
    "        \n",
    "    return centers"
   ]
  },
  {
   "cell_type": "code",
   "execution_count": null,
   "id": "a941e5c4",
   "metadata": {},
   "outputs": [],
   "source": []
  },
  {
   "cell_type": "code",
   "execution_count": 57,
   "id": "508f136c",
   "metadata": {},
   "outputs": [],
   "source": [
    "centers = create_centers(X,4)"
   ]
  },
  {
   "cell_type": "code",
   "execution_count": 68,
   "id": "26ebdd06",
   "metadata": {},
   "outputs": [
    {
     "data": {
      "image/png": "[encoded data removed]",
      "text/plain": [
       "<Figure size 432x288 with 1 Axes>"
      ]
     },
     "metadata": {
      "needs_background": "light"
     },
     "output_type": "display_data"
    }
   ],
   "source": [
    "sns.scatterplot(x=[x[0] for x in X],\n",
    "                y=[y[1] for y in X],\n",
    "                color = \"pink\",\n",
    "                palette=\"deep\",\n",
    "                legend=None\n",
    "                )\n",
    "\n",
    "plt.plot([x for x, _ in centers],\n",
    "         [y for _, y in centers],\n",
    "         '+',\n",
    "         markersize=20\n",
    "         )\n",
    "\n",
    "plt.show()"
   ]
  },
  {
   "cell_type": "code",
   "execution_count": 69,
   "id": "87d46f3b",
   "metadata": {},
   "outputs": [],
   "source": [
    "def Kmeans(X, num_of_centers, epochs = 1500):\n",
    "    \n",
    "    epoch = 1\n",
    "    old_clusters = None\n",
    "    clusters = np.zeros(X.shape[0])\n",
    "    \n",
    "    # Selecting centers using kmeans++\n",
    "    centers = create_centers(X,4)\n",
    "    \n",
    "    while((epoch<=epochs)):\n",
    "        # Creating a distance matrix wrt all centers and data points\n",
    "        distance_matrix = create_distance_matrix(X, centers)\n",
    "        \n",
    "        # Assigning cluster to the center where the distance is minimum\n",
    "        clusters = np.argmin(distance_matrix, axis=1)\n",
    "        \n",
    "        # Updating old cluster\n",
    "        for i in range(num_of_centers):\n",
    "            centers[i] = np.mean(X[np.where(clusters == i)], axis = 0)\n",
    "            \n",
    "        # if the old clusters and new clusters are same then stop\n",
    "        if np.array_equal(old_clusters,clusters):\n",
    "            break\n",
    "        old_clusters = clusters\n",
    "        \n",
    "        epoch += 1\n",
    "            \n",
    "    return centers, clusters"
   ]
  },
  {
   "cell_type": "code",
   "execution_count": 70,
   "id": "c33fdf35",
   "metadata": {},
   "outputs": [
    {
     "data": {
      "image/png": "[encoded data removed]",
      "text/plain": [
       "<Figure size 432x288 with 1 Axes>"
      ]
     },
     "metadata": {
      "needs_background": "light"
     },
     "output_type": "display_data"
    }
   ],
   "source": [
    "centers, clusters = Kmeans(X, 4)\n",
    "\n",
    "# View results\n",
    "sns.scatterplot(x=[x[0] for x in X],\n",
    "                y=[y[1] for y in X],\n",
    "                hue = true_labels,\n",
    "                style=clusters,\n",
    "                palette=\"deep\",\n",
    "                legend=None\n",
    "                )\n",
    "plt.plot([x for x, _ in centers],\n",
    "         [y for _, y in centers],\n",
    "         '+',\n",
    "         markersize=20\n",
    "         )\n",
    "\n",
    "plt.show()"
   ]
  },
  {
   "cell_type": "code",
   "execution_count": null,
   "id": "7b574c00",
   "metadata": {},
   "outputs": [],
   "source": []
  },
  {
   "cell_type": "code",
   "execution_count": null,
   "id": "1a22654b",
   "metadata": {},
   "outputs": [],
   "source": []
  },
  {
   "cell_type": "code",
   "execution_count": null,
   "id": "6d7b2700",
   "metadata": {},
   "outputs": [],
   "source": []
  },
  {
   "cell_type": "code",
   "execution_count": null,
   "id": "ccceae99",
   "metadata": {},
   "outputs": [],
   "source": []
  },
  {
   "cell_type": "markdown",
   "id": "9c19a87a",
   "metadata": {},
   "source": [
    "### References used\n",
    "\n",
    "https://towardsdatascience.com/create-your-own-k-means-clustering-algorithm-in-python-d7d4c9077670"
   ]
  },
  {
   "cell_type": "code",
   "execution_count": null,
   "id": "14d6e201",
   "metadata": {},
   "outputs": [],
   "source": []
  }
 ],
 "metadata": {
  "kernelspec": {
   "display_name": "Python 3.9 (tensorflow)",
   "language": "python",
   "name": "tensorflow"
  },
  "language_info": {
   "codemirror_mode": {
    "name": "ipython",
    "version": 3
   },
   "file_extension": ".py",
   "mimetype": "text/x-python",
   "name": "python",
   "nbconvert_exporter": "python",
   "pygments_lexer": "ipython3",
   "version": "3.9.12"
  }
 },
 "nbformat": 4,
 "nbformat_minor": 5
}

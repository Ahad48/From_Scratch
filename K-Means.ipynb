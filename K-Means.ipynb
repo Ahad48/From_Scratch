{
 "cells": [
  {
   "cell_type": "code",
   "execution_count": 1,
   "id": "ef4462e7",
   "metadata": {},
   "outputs": [
    {
     "data": {
      "text/html": [
       "<style>.container { width:100% !important; }</style>"
      ],
      "text/plain": [
       "<IPython.core.display.HTML object>"
      ]
     },
     "metadata": {},
     "output_type": "display_data"
    }
   ],
   "source": [
    "import pandas as pd\n",
    "import numpy as np\n",
    "\n",
    "from IPython.display import display, HTML\n",
    "display(HTML(\"<style>.container { width:100% !important; }</style>\"))\n",
    "\n",
    "import matplotlib.pyplot as plt"
   ]
  },
  {
   "cell_type": "code",
   "execution_count": 2,
   "id": "c79712e8",
   "metadata": {},
   "outputs": [],
   "source": [
    "import matplotlib.pyplot as plt\n",
    "from sklearn.preprocessing import StandardScaler\n",
    "from sklearn.datasets import make_blobs"
   ]
  },
  {
   "cell_type": "code",
   "execution_count": 32,
   "id": "a25af356",
   "metadata": {},
   "outputs": [],
   "source": [
    "X = make_blobs(1000,2, centers=4, random_state=14)[0]"
   ]
  },
  {
   "cell_type": "code",
   "execution_count": 33,
   "id": "32dce764",
   "metadata": {},
   "outputs": [
    {
     "data": {
      "text/plain": [
       "<matplotlib.collections.PathCollection at 0x12162cbe0>"
      ]
     },
     "execution_count": 33,
     "metadata": {},
     "output_type": "execute_result"
    },
    {
     "data": {
      "image/png": "[encoded data removed]",
      "text/plain": [
       "<Figure size 432x288 with 1 Axes>"
      ]
     },
     "metadata": {
      "needs_background": "light"
     },
     "output_type": "display_data"
    }
   ],
   "source": [
    "plt.scatter(X[:,0],X[:,1])"
   ]
  },
  {
   "cell_type": "code",
   "execution_count": 36,
   "id": "5f406a5b",
   "metadata": {},
   "outputs": [],
   "source": [
    "sc = StandardScaler()\n",
    "X = sc.fit_transform(X)"
   ]
  },
  {
   "cell_type": "code",
   "execution_count": 49,
   "id": "fe127548",
   "metadata": {},
   "outputs": [],
   "source": [
    "test = np.random.normal(0,0.25, size=(1000,2))"
   ]
  },
  {
   "cell_type": "code",
   "execution_count": 51,
   "id": "10fe415e",
   "metadata": {},
   "outputs": [
    {
     "name": "stdout",
     "output_type": "stream",
     "text": [
      "2.18 µs ± 13.3 ns per loop (mean ± std. dev. of 7 runs, 100,000 loops each)\n"
     ]
    }
   ],
   "source": [
    "%%timeit\n",
    "(X - test)**2"
   ]
  },
  {
   "cell_type": "code",
   "execution_count": 53,
   "id": "8a617b7e",
   "metadata": {},
   "outputs": [
    {
     "name": "stdout",
     "output_type": "stream",
     "text": [
      "19 µs ± 41.7 ns per loop (mean ± std. dev. of 7 runs, 10,000 loops each)\n"
     ]
    }
   ],
   "source": [
    "%%timeit\n",
    "np.power((X-test),2)"
   ]
  },
  {
   "cell_type": "code",
   "execution_count": 61,
   "id": "2b6db902",
   "metadata": {},
   "outputs": [
    {
     "name": "stdout",
     "output_type": "stream",
     "text": [
      "9.8 µs ± 77.2 ns per loop (mean ± std. dev. of 7 runs, 100,000 loops each)\n"
     ]
    }
   ],
   "source": [
    "%%timeit\n",
    "np.sqrt(((X-test)**2).sum(axis=1))"
   ]
  },
  {
   "cell_type": "code",
   "execution_count": 62,
   "id": "7c1b72c6",
   "metadata": {},
   "outputs": [
    {
     "name": "stdout",
     "output_type": "stream",
     "text": [
      "9.75 µs ± 52.5 ns per loop (mean ± std. dev. of 7 runs, 100,000 loops each)\n"
     ]
    }
   ],
   "source": [
    "%%timeit\n",
    "(((X-test)**2).sum(axis=1))**0.5"
   ]
  },
  {
   "cell_type": "code",
   "execution_count": 64,
   "id": "ec41a3d1",
   "metadata": {},
   "outputs": [],
   "source": [
    "def euclidean_dis(point1, point2):\n",
    "    return (((point1-point2)**2).sum(axis=1))**0.5"
   ]
  },
  {
   "cell_type": "code",
   "execution_count": 66,
   "id": "ca5abdb2",
   "metadata": {},
   "outputs": [
    {
     "data": {
      "text/plain": [
       "array([0.55409196])"
      ]
     },
     "execution_count": 66,
     "metadata": {},
     "output_type": "execute_result"
    }
   ],
   "source": [
    "euclidean_dis(X[:1], np.zeros((1,2)))"
   ]
  },
  {
   "cell_type": "code",
   "execution_count": 67,
   "id": "89e5bd19",
   "metadata": {},
   "outputs": [],
   "source": [
    "## to implement a better centeroid selection method later"
   ]
  },
  {
   "cell_type": "code",
   "execution_count": 69,
   "id": "ddfee820",
   "metadata": {},
   "outputs": [
    {
     "data": {
      "text/plain": [
       "array([[-0.22833246,  0.82241035],\n",
       "       [-0.95111435,  0.43950094],\n",
       "       [ 1.70057919, -1.14908352],\n",
       "       [ 1.73897964, -1.36321123]])"
      ]
     },
     "execution_count": 69,
     "metadata": {},
     "output_type": "execute_result"
    }
   ],
   "source": [
    "num_of_centers = 4\n",
    "centers = X[np.random.choice(X.shape[0], num_of_centers)]\n",
    "centers"
   ]
  },
  {
   "cell_type": "code",
   "execution_count": 77,
   "id": "9b9eea8a",
   "metadata": {},
   "outputs": [],
   "source": [
    "distance_matrix = np.zeros((X.shape[0],num_of_centers))"
   ]
  },
  {
   "cell_type": "code",
   "execution_count": 80,
   "id": "661d5ff8",
   "metadata": {},
   "outputs": [
    {
     "ename": "NameError",
     "evalue": "name 'x' is not defined",
     "output_type": "error",
     "traceback": [
      "\u001b[0;31m---------------------------------------------------------------------------\u001b[0m",
      "\u001b[0;31mNameError\u001b[0m                                 Traceback (most recent call last)",
      "Input \u001b[0;32mIn [80]\u001b[0m, in \u001b[0;36m<cell line: 1>\u001b[0;34m()\u001b[0m\n\u001b[1;32m      1\u001b[0m \u001b[38;5;28;01mfor\u001b[39;00m i,cluster \u001b[38;5;129;01min\u001b[39;00m \u001b[38;5;28menumerate\u001b[39m(\u001b[38;5;28mrange\u001b[39m(num_of_centers)):\n\u001b[0;32m----> 2\u001b[0m     distance_matrix[cluster,:] \u001b[38;5;241m=\u001b[39m euclidean_dis(\u001b[43mx\u001b[49m,cluster)\n",
      "\u001b[0;31mNameError\u001b[0m: name 'x' is not defined"
     ]
    }
   ],
   "source": [
    "for i,cluster in enumerate(range(num_of_centers)):\n",
    "    distance_matrix[cluster,:] = euclidean_dis(x,cluster)"
   ]
  },
  {
   "cell_type": "code",
   "execution_count": 78,
   "id": "74a5abf4",
   "metadata": {},
   "outputs": [
    {
     "data": {
      "text/plain": [
       "array([[0., 0., 0., 0.],\n",
       "       [0., 0., 0., 0.],\n",
       "       [0., 0., 0., 0.],\n",
       "       ...,\n",
       "       [0., 0., 0., 0.],\n",
       "       [0., 0., 0., 0.],\n",
       "       [0., 0., 0., 0.]])"
      ]
     },
     "execution_count": 78,
     "metadata": {},
     "output_type": "execute_result"
    }
   ],
   "source": [
    "distance_matrix"
   ]
  },
  {
   "cell_type": "code",
   "execution_count": null,
   "id": "c77fac4f",
   "metadata": {},
   "outputs": [],
   "source": [
    "def Kmeans(X, num_of_centers, epochs = 1500):\n",
    "    \n",
    "    centers = np.random.choice(X.shape[0], num_of_centers)"
   ]
  }
 ],
 "metadata": {
  "kernelspec": {
   "display_name": "Python 3.9 (tensorflow)",
   "language": "python",
   "name": "tensorflow"
  },
  "language_info": {
   "codemirror_mode": {
    "name": "ipython",
    "version": 3
   },
   "file_extension": ".py",
   "mimetype": "text/x-python",
   "name": "python",
   "nbconvert_exporter": "python",
   "pygments_lexer": "ipython3",
   "version": "3.9.12"
  }
 },
 "nbformat": 4,
 "nbformat_minor": 5
}
